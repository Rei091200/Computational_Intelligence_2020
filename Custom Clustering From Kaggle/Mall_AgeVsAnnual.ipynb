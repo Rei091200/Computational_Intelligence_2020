{
  "nbformat": 4,
  "nbformat_minor": 0,
  "metadata": {
    "colab": {
      "name": "Mall_AgeVsAnnual.ipynb",
      "provenance": []
    },
    "kernelspec": {
      "name": "python3",
      "display_name": "Python 3"
    }
  },
  "cells": [
    {
      "cell_type": "code",
      "metadata": {
        "id": "STLfEbgiTXES"
      },
      "source": [
        "import pandas as pd\n",
        "import seaborn as sns\n",
        "import numpy as np\n",
        "import plotly as py\n",
        "import matplotlib.pyplot as plt\n",
        "from sklearn import metrics\n",
        "from sklearn.cluster import KMeans\n",
        "from sklearn.preprocessing import StandardScaler\n",
        "from sklearn.metrics import silhouette_score"
      ],
      "execution_count": 71,
      "outputs": []
    },
    {
      "cell_type": "code",
      "metadata": {
        "id": "OF2_R5fwVBz7",
        "outputId": "33f31782-94f6-4e2e-8df7-60bcec051e93",
        "colab": {
          "base_uri": "https://localhost:8080/",
          "height": 204
        }
      },
      "source": [
        "mall = pd.read_csv('Mall_Customers.csv')\n",
        "mall.head()"
      ],
      "execution_count": 72,
      "outputs": [
        {
          "output_type": "execute_result",
          "data": {
            "text/html": [
              "<div>\n",
              "<style scoped>\n",
              "    .dataframe tbody tr th:only-of-type {\n",
              "        vertical-align: middle;\n",
              "    }\n",
              "\n",
              "    .dataframe tbody tr th {\n",
              "        vertical-align: top;\n",
              "    }\n",
              "\n",
              "    .dataframe thead th {\n",
              "        text-align: right;\n",
              "    }\n",
              "</style>\n",
              "<table border=\"1\" class=\"dataframe\">\n",
              "  <thead>\n",
              "    <tr style=\"text-align: right;\">\n",
              "      <th></th>\n",
              "      <th>CustomerID</th>\n",
              "      <th>Gender</th>\n",
              "      <th>Age</th>\n",
              "      <th>Annual Income (k$)</th>\n",
              "      <th>Spending Score (1-100)</th>\n",
              "    </tr>\n",
              "  </thead>\n",
              "  <tbody>\n",
              "    <tr>\n",
              "      <th>0</th>\n",
              "      <td>1</td>\n",
              "      <td>Male</td>\n",
              "      <td>19</td>\n",
              "      <td>15</td>\n",
              "      <td>39</td>\n",
              "    </tr>\n",
              "    <tr>\n",
              "      <th>1</th>\n",
              "      <td>2</td>\n",
              "      <td>Male</td>\n",
              "      <td>21</td>\n",
              "      <td>15</td>\n",
              "      <td>81</td>\n",
              "    </tr>\n",
              "    <tr>\n",
              "      <th>2</th>\n",
              "      <td>3</td>\n",
              "      <td>Female</td>\n",
              "      <td>20</td>\n",
              "      <td>16</td>\n",
              "      <td>6</td>\n",
              "    </tr>\n",
              "    <tr>\n",
              "      <th>3</th>\n",
              "      <td>4</td>\n",
              "      <td>Female</td>\n",
              "      <td>23</td>\n",
              "      <td>16</td>\n",
              "      <td>77</td>\n",
              "    </tr>\n",
              "    <tr>\n",
              "      <th>4</th>\n",
              "      <td>5</td>\n",
              "      <td>Female</td>\n",
              "      <td>31</td>\n",
              "      <td>17</td>\n",
              "      <td>40</td>\n",
              "    </tr>\n",
              "  </tbody>\n",
              "</table>\n",
              "</div>"
            ],
            "text/plain": [
              "   CustomerID  Gender  Age  Annual Income (k$)  Spending Score (1-100)\n",
              "0           1    Male   19                  15                      39\n",
              "1           2    Male   21                  15                      81\n",
              "2           3  Female   20                  16                       6\n",
              "3           4  Female   23                  16                      77\n",
              "4           5  Female   31                  17                      40"
            ]
          },
          "metadata": {
            "tags": []
          },
          "execution_count": 72
        }
      ]
    },
    {
      "cell_type": "code",
      "metadata": {
        "id": "69ZHSkm-WiOc",
        "outputId": "61608b77-3e8b-4437-cd33-2af1d9962440",
        "colab": {
          "base_uri": "https://localhost:8080/"
        }
      },
      "source": [
        "mall.shape"
      ],
      "execution_count": 73,
      "outputs": [
        {
          "output_type": "execute_result",
          "data": {
            "text/plain": [
              "(200, 5)"
            ]
          },
          "metadata": {
            "tags": []
          },
          "execution_count": 73
        }
      ]
    },
    {
      "cell_type": "code",
      "metadata": {
        "id": "lrrSmHM6WiWE",
        "outputId": "117ca5ee-044e-44a6-e1a6-fdb9e1a95ea2",
        "colab": {
          "base_uri": "https://localhost:8080/",
          "height": 297
        }
      },
      "source": [
        "mall.describe()"
      ],
      "execution_count": 74,
      "outputs": [
        {
          "output_type": "execute_result",
          "data": {
            "text/html": [
              "<div>\n",
              "<style scoped>\n",
              "    .dataframe tbody tr th:only-of-type {\n",
              "        vertical-align: middle;\n",
              "    }\n",
              "\n",
              "    .dataframe tbody tr th {\n",
              "        vertical-align: top;\n",
              "    }\n",
              "\n",
              "    .dataframe thead th {\n",
              "        text-align: right;\n",
              "    }\n",
              "</style>\n",
              "<table border=\"1\" class=\"dataframe\">\n",
              "  <thead>\n",
              "    <tr style=\"text-align: right;\">\n",
              "      <th></th>\n",
              "      <th>CustomerID</th>\n",
              "      <th>Age</th>\n",
              "      <th>Annual Income (k$)</th>\n",
              "      <th>Spending Score (1-100)</th>\n",
              "    </tr>\n",
              "  </thead>\n",
              "  <tbody>\n",
              "    <tr>\n",
              "      <th>count</th>\n",
              "      <td>200.000000</td>\n",
              "      <td>200.000000</td>\n",
              "      <td>200.000000</td>\n",
              "      <td>200.000000</td>\n",
              "    </tr>\n",
              "    <tr>\n",
              "      <th>mean</th>\n",
              "      <td>100.500000</td>\n",
              "      <td>38.850000</td>\n",
              "      <td>60.560000</td>\n",
              "      <td>50.200000</td>\n",
              "    </tr>\n",
              "    <tr>\n",
              "      <th>std</th>\n",
              "      <td>57.879185</td>\n",
              "      <td>13.969007</td>\n",
              "      <td>26.264721</td>\n",
              "      <td>25.823522</td>\n",
              "    </tr>\n",
              "    <tr>\n",
              "      <th>min</th>\n",
              "      <td>1.000000</td>\n",
              "      <td>18.000000</td>\n",
              "      <td>15.000000</td>\n",
              "      <td>1.000000</td>\n",
              "    </tr>\n",
              "    <tr>\n",
              "      <th>25%</th>\n",
              "      <td>50.750000</td>\n",
              "      <td>28.750000</td>\n",
              "      <td>41.500000</td>\n",
              "      <td>34.750000</td>\n",
              "    </tr>\n",
              "    <tr>\n",
              "      <th>50%</th>\n",
              "      <td>100.500000</td>\n",
              "      <td>36.000000</td>\n",
              "      <td>61.500000</td>\n",
              "      <td>50.000000</td>\n",
              "    </tr>\n",
              "    <tr>\n",
              "      <th>75%</th>\n",
              "      <td>150.250000</td>\n",
              "      <td>49.000000</td>\n",
              "      <td>78.000000</td>\n",
              "      <td>73.000000</td>\n",
              "    </tr>\n",
              "    <tr>\n",
              "      <th>max</th>\n",
              "      <td>200.000000</td>\n",
              "      <td>70.000000</td>\n",
              "      <td>137.000000</td>\n",
              "      <td>99.000000</td>\n",
              "    </tr>\n",
              "  </tbody>\n",
              "</table>\n",
              "</div>"
            ],
            "text/plain": [
              "       CustomerID         Age  Annual Income (k$)  Spending Score (1-100)\n",
              "count  200.000000  200.000000          200.000000              200.000000\n",
              "mean   100.500000   38.850000           60.560000               50.200000\n",
              "std     57.879185   13.969007           26.264721               25.823522\n",
              "min      1.000000   18.000000           15.000000                1.000000\n",
              "25%     50.750000   28.750000           41.500000               34.750000\n",
              "50%    100.500000   36.000000           61.500000               50.000000\n",
              "75%    150.250000   49.000000           78.000000               73.000000\n",
              "max    200.000000   70.000000          137.000000               99.000000"
            ]
          },
          "metadata": {
            "tags": []
          },
          "execution_count": 74
        }
      ]
    },
    {
      "cell_type": "code",
      "metadata": {
        "id": "2jaLIclhWiba",
        "outputId": "63bc021d-a9c4-43ef-c73d-5f9e2c4fb44e",
        "colab": {
          "base_uri": "https://localhost:8080/"
        }
      },
      "source": [
        "mall.isnull().sum()"
      ],
      "execution_count": 75,
      "outputs": [
        {
          "output_type": "execute_result",
          "data": {
            "text/plain": [
              "CustomerID                0\n",
              "Gender                    0\n",
              "Age                       0\n",
              "Annual Income (k$)        0\n",
              "Spending Score (1-100)    0\n",
              "dtype: int64"
            ]
          },
          "metadata": {
            "tags": []
          },
          "execution_count": 75
        }
      ]
    },
    {
      "cell_type": "code",
      "metadata": {
        "id": "gB74nUuaWifT",
        "outputId": "79f9f499-8abf-470a-b4e2-123e35d80f5f",
        "colab": {
          "base_uri": "https://localhost:8080/",
          "height": 404
        }
      },
      "source": [
        "plt.figure(1 , figsize = (15 , 6))\n",
        "for gender in ['Male' , 'Female']:\n",
        "    plt.scatter(x = 'Age' , y = 'Annual Income (k$)' , data = mall[mall['Gender'] == gender] ,\n",
        "                s = 200 , alpha = 0.5 , label = gender)\n",
        "plt.xlabel('Age'), plt.ylabel('Annual Income (k$)') \n",
        "plt.title('Age vs Annual Income')\n",
        "plt.legend()\n",
        "plt.show()"
      ],
      "execution_count": 76,
      "outputs": [
        {
          "output_type": "display_data",
          "data": {
            "image/png": "[encoded data removed]",
            "text/plain": [
              "<Figure size 1080x432 with 1 Axes>"
            ]
          },
          "metadata": {
            "tags": [],
            "needs_background": "light"
          }
        }
      ]
    },
    {
      "cell_type": "code",
      "metadata": {
        "id": "mOCT_gfhWiiV"
      },
      "source": [
        "mall_x = mall[['Age' , 'Spending Score (1-100)']].iloc[: , :].values\n",
        "inertia = []\n",
        "\n",
        "for n in range(1 , 11):\n",
        "    kmeans = (KMeans(n_clusters = n ,init='k-means++', n_init = 10 ,max_iter=300, \n",
        "                        tol=0.0001,  random_state= 200  , algorithm='elkan') )\n",
        "    kmeans.fit(mall_x)\n",
        "    inertia.append(kmeans.inertia_)\n"
      ],
      "execution_count": 93,
      "outputs": []
    },
    {
      "cell_type": "code",
      "metadata": {
        "id": "8jV497_IjMvc",
        "outputId": "6a8871ed-8ae2-4f64-810c-09f28cac2337",
        "colab": {
          "base_uri": "https://localhost:8080/"
        }
      },
      "source": [
        "x_array =  np.array(mall_x)\n",
        "print(x_array)"
      ],
      "execution_count": 94,
      "outputs": [
        {
          "output_type": "stream",
          "text": [
            "[[19 39]\n",
            " [21 81]\n",
            " [20  6]\n",
            " [23 77]\n",
            " [31 40]\n",
            " [22 76]\n",
            " [35  6]\n",
            " [23 94]\n",
            " [64  3]\n",
            " [30 72]\n",
            " [67 14]\n",
            " [35 99]\n",
            " [58 15]\n",
            " [24 77]\n",
            " [37 13]\n",
            " [22 79]\n",
            " [35 35]\n",
            " [20 66]\n",
            " [52 29]\n",
            " [35 98]\n",
            " [35 35]\n",
            " [25 73]\n",
            " [46  5]\n",
            " [31 73]\n",
            " [54 14]\n",
            " [29 82]\n",
            " [45 32]\n",
            " [35 61]\n",
            " [40 31]\n",
            " [23 87]\n",
            " [60  4]\n",
            " [21 73]\n",
            " [53  4]\n",
            " [18 92]\n",
            " [49 14]\n",
            " [21 81]\n",
            " [42 17]\n",
            " [30 73]\n",
            " [36 26]\n",
            " [20 75]\n",
            " [65 35]\n",
            " [24 92]\n",
            " [48 36]\n",
            " [31 61]\n",
            " [49 28]\n",
            " [24 65]\n",
            " [50 55]\n",
            " [27 47]\n",
            " [29 42]\n",
            " [31 42]\n",
            " [49 52]\n",
            " [33 60]\n",
            " [31 54]\n",
            " [59 60]\n",
            " [50 45]\n",
            " [47 41]\n",
            " [51 50]\n",
            " [69 46]\n",
            " [27 51]\n",
            " [53 46]\n",
            " [70 56]\n",
            " [19 55]\n",
            " [67 52]\n",
            " [54 59]\n",
            " [63 51]\n",
            " [18 59]\n",
            " [43 50]\n",
            " [68 48]\n",
            " [19 59]\n",
            " [32 47]\n",
            " [70 55]\n",
            " [47 42]\n",
            " [60 49]\n",
            " [60 56]\n",
            " [59 47]\n",
            " [26 54]\n",
            " [45 53]\n",
            " [40 48]\n",
            " [23 52]\n",
            " [49 42]\n",
            " [57 51]\n",
            " [38 55]\n",
            " [67 41]\n",
            " [46 44]\n",
            " [21 57]\n",
            " [48 46]\n",
            " [55 58]\n",
            " [22 55]\n",
            " [34 60]\n",
            " [50 46]\n",
            " [68 55]\n",
            " [18 41]\n",
            " [48 49]\n",
            " [40 40]\n",
            " [32 42]\n",
            " [24 52]\n",
            " [47 47]\n",
            " [27 50]\n",
            " [48 42]\n",
            " [20 49]\n",
            " [23 41]\n",
            " [49 48]\n",
            " [67 59]\n",
            " [26 55]\n",
            " [49 56]\n",
            " [21 42]\n",
            " [66 50]\n",
            " [54 46]\n",
            " [68 43]\n",
            " [66 48]\n",
            " [65 52]\n",
            " [19 54]\n",
            " [38 42]\n",
            " [19 46]\n",
            " [18 48]\n",
            " [19 50]\n",
            " [63 43]\n",
            " [49 59]\n",
            " [51 43]\n",
            " [50 57]\n",
            " [27 56]\n",
            " [38 40]\n",
            " [40 58]\n",
            " [39 91]\n",
            " [23 29]\n",
            " [31 77]\n",
            " [43 35]\n",
            " [40 95]\n",
            " [59 11]\n",
            " [38 75]\n",
            " [47  9]\n",
            " [39 75]\n",
            " [25 34]\n",
            " [31 71]\n",
            " [20  5]\n",
            " [29 88]\n",
            " [44  7]\n",
            " [32 73]\n",
            " [19 10]\n",
            " [35 72]\n",
            " [57  5]\n",
            " [32 93]\n",
            " [28 40]\n",
            " [32 87]\n",
            " [25 12]\n",
            " [28 97]\n",
            " [48 36]\n",
            " [32 74]\n",
            " [34 22]\n",
            " [34 90]\n",
            " [43 17]\n",
            " [39 88]\n",
            " [44 20]\n",
            " [38 76]\n",
            " [47 16]\n",
            " [27 89]\n",
            " [37  1]\n",
            " [30 78]\n",
            " [34  1]\n",
            " [30 73]\n",
            " [56 35]\n",
            " [29 83]\n",
            " [19  5]\n",
            " [31 93]\n",
            " [50 26]\n",
            " [36 75]\n",
            " [42 20]\n",
            " [33 95]\n",
            " [36 27]\n",
            " [32 63]\n",
            " [40 13]\n",
            " [28 75]\n",
            " [36 10]\n",
            " [36 92]\n",
            " [52 13]\n",
            " [30 86]\n",
            " [58 15]\n",
            " [27 69]\n",
            " [59 14]\n",
            " [35 90]\n",
            " [37 32]\n",
            " [32 86]\n",
            " [46 15]\n",
            " [29 88]\n",
            " [41 39]\n",
            " [30 97]\n",
            " [54 24]\n",
            " [28 68]\n",
            " [41 17]\n",
            " [36 85]\n",
            " [34 23]\n",
            " [32 69]\n",
            " [33  8]\n",
            " [38 91]\n",
            " [47 16]\n",
            " [35 79]\n",
            " [45 28]\n",
            " [32 74]\n",
            " [32 18]\n",
            " [30 83]]\n"
          ],
          "name": "stdout"
        }
      ]
    },
    {
      "cell_type": "code",
      "metadata": {
        "id": "Yl2fRJ9zj84L",
        "outputId": "1646682c-5399-43a7-af73-54e8c3424e19",
        "colab": {
          "base_uri": "https://localhost:8080/"
        }
      },
      "source": [
        "scaler = StandardScaler()\n",
        "x_scaled = scaler.fit_transform(x_array)\n",
        "x_scaled"
      ],
      "execution_count": 95,
      "outputs": [
        {
          "output_type": "execute_result",
          "data": {
            "text/plain": [
              "array([[-1.42456879, -0.43480148],\n",
              "       [-1.28103541,  1.19570407],\n",
              "       [-1.3528021 , -1.71591298],\n",
              "       [-1.13750203,  1.04041783],\n",
              "       [-0.56336851, -0.39597992],\n",
              "       [-1.20926872,  1.00159627],\n",
              "       [-0.27630176, -1.71591298],\n",
              "       [-1.13750203,  1.70038436],\n",
              "       [ 1.80493225, -1.83237767],\n",
              "       [-0.6351352 ,  0.84631002],\n",
              "       [ 2.02023231, -1.4053405 ],\n",
              "       [-0.27630176,  1.89449216],\n",
              "       [ 1.37433211, -1.36651894],\n",
              "       [-1.06573534,  1.04041783],\n",
              "       [-0.13276838, -1.44416206],\n",
              "       [-1.20926872,  1.11806095],\n",
              "       [-0.27630176, -0.59008772],\n",
              "       [-1.3528021 ,  0.61338066],\n",
              "       [ 0.94373197, -0.82301709],\n",
              "       [-0.27630176,  1.8556706 ],\n",
              "       [-0.27630176, -0.59008772],\n",
              "       [-0.99396865,  0.88513158],\n",
              "       [ 0.51313183, -1.75473454],\n",
              "       [-0.56336851,  0.88513158],\n",
              "       [ 1.08726535, -1.4053405 ],\n",
              "       [-0.70690189,  1.23452563],\n",
              "       [ 0.44136514, -0.7065524 ],\n",
              "       [-0.27630176,  0.41927286],\n",
              "       [ 0.08253169, -0.74537397],\n",
              "       [-1.13750203,  1.42863343],\n",
              "       [ 1.51786549, -1.7935561 ],\n",
              "       [-1.28103541,  0.88513158],\n",
              "       [ 1.01549866, -1.7935561 ],\n",
              "       [-1.49633548,  1.62274124],\n",
              "       [ 0.7284319 , -1.4053405 ],\n",
              "       [-1.28103541,  1.19570407],\n",
              "       [ 0.22606507, -1.28887582],\n",
              "       [-0.6351352 ,  0.88513158],\n",
              "       [-0.20453507, -0.93948177],\n",
              "       [-1.3528021 ,  0.96277471],\n",
              "       [ 1.87669894, -0.59008772],\n",
              "       [-1.06573534,  1.62274124],\n",
              "       [ 0.65666521, -0.55126616],\n",
              "       [-0.56336851,  0.41927286],\n",
              "       [ 0.7284319 , -0.86183865],\n",
              "       [-1.06573534,  0.5745591 ],\n",
              "       [ 0.80019859,  0.18634349],\n",
              "       [-0.85043527, -0.12422899],\n",
              "       [-0.70690189, -0.3183368 ],\n",
              "       [-0.56336851, -0.3183368 ],\n",
              "       [ 0.7284319 ,  0.06987881],\n",
              "       [-0.41983513,  0.38045129],\n",
              "       [-0.56336851,  0.14752193],\n",
              "       [ 1.4460988 ,  0.38045129],\n",
              "       [ 0.80019859, -0.20187212],\n",
              "       [ 0.58489852, -0.35715836],\n",
              "       [ 0.87196528, -0.00776431],\n",
              "       [ 2.16376569, -0.16305055],\n",
              "       [-0.85043527,  0.03105725],\n",
              "       [ 1.01549866, -0.16305055],\n",
              "       [ 2.23553238,  0.22516505],\n",
              "       [-1.42456879,  0.18634349],\n",
              "       [ 2.02023231,  0.06987881],\n",
              "       [ 1.08726535,  0.34162973],\n",
              "       [ 1.73316556,  0.03105725],\n",
              "       [-1.49633548,  0.34162973],\n",
              "       [ 0.29783176, -0.00776431],\n",
              "       [ 2.091999  , -0.08540743],\n",
              "       [-1.42456879,  0.34162973],\n",
              "       [-0.49160182, -0.12422899],\n",
              "       [ 2.23553238,  0.18634349],\n",
              "       [ 0.58489852, -0.3183368 ],\n",
              "       [ 1.51786549, -0.04658587],\n",
              "       [ 1.51786549,  0.22516505],\n",
              "       [ 1.4460988 , -0.12422899],\n",
              "       [-0.92220196,  0.14752193],\n",
              "       [ 0.44136514,  0.10870037],\n",
              "       [ 0.08253169, -0.08540743],\n",
              "       [-1.13750203,  0.06987881],\n",
              "       [ 0.7284319 , -0.3183368 ],\n",
              "       [ 1.30256542,  0.03105725],\n",
              "       [-0.06100169,  0.18634349],\n",
              "       [ 2.02023231, -0.35715836],\n",
              "       [ 0.51313183, -0.24069368],\n",
              "       [-1.28103541,  0.26398661],\n",
              "       [ 0.65666521, -0.16305055],\n",
              "       [ 1.15903204,  0.30280817],\n",
              "       [-1.20926872,  0.18634349],\n",
              "       [-0.34806844,  0.38045129],\n",
              "       [ 0.80019859, -0.16305055],\n",
              "       [ 2.091999  ,  0.18634349],\n",
              "       [-1.49633548, -0.35715836],\n",
              "       [ 0.65666521, -0.04658587],\n",
              "       [ 0.08253169, -0.39597992],\n",
              "       [-0.49160182, -0.3183368 ],\n",
              "       [-1.06573534,  0.06987881],\n",
              "       [ 0.58489852, -0.12422899],\n",
              "       [-0.85043527, -0.00776431],\n",
              "       [ 0.65666521, -0.3183368 ],\n",
              "       [-1.3528021 , -0.04658587],\n",
              "       [-1.13750203, -0.35715836],\n",
              "       [ 0.7284319 , -0.08540743],\n",
              "       [ 2.02023231,  0.34162973],\n",
              "       [-0.92220196,  0.18634349],\n",
              "       [ 0.7284319 ,  0.22516505],\n",
              "       [-1.28103541, -0.3183368 ],\n",
              "       [ 1.94846562, -0.00776431],\n",
              "       [ 1.08726535, -0.16305055],\n",
              "       [ 2.091999  , -0.27951524],\n",
              "       [ 1.94846562, -0.08540743],\n",
              "       [ 1.87669894,  0.06987881],\n",
              "       [-1.42456879,  0.14752193],\n",
              "       [-0.06100169, -0.3183368 ],\n",
              "       [-1.42456879, -0.16305055],\n",
              "       [-1.49633548, -0.08540743],\n",
              "       [-1.42456879, -0.00776431],\n",
              "       [ 1.73316556, -0.27951524],\n",
              "       [ 0.7284319 ,  0.34162973],\n",
              "       [ 0.87196528, -0.27951524],\n",
              "       [ 0.80019859,  0.26398661],\n",
              "       [-0.85043527,  0.22516505],\n",
              "       [-0.06100169, -0.39597992],\n",
              "       [ 0.08253169,  0.30280817],\n",
              "       [ 0.010765  ,  1.58391968],\n",
              "       [-1.13750203, -0.82301709],\n",
              "       [-0.56336851,  1.04041783],\n",
              "       [ 0.29783176, -0.59008772],\n",
              "       [ 0.08253169,  1.73920592],\n",
              "       [ 1.4460988 , -1.52180518],\n",
              "       [-0.06100169,  0.96277471],\n",
              "       [ 0.58489852, -1.5994483 ],\n",
              "       [ 0.010765  ,  0.96277471],\n",
              "       [-0.99396865, -0.62890928],\n",
              "       [-0.56336851,  0.80748846],\n",
              "       [-1.3528021 , -1.75473454],\n",
              "       [-0.70690189,  1.46745499],\n",
              "       [ 0.36959845, -1.67709142],\n",
              "       [-0.49160182,  0.88513158],\n",
              "       [-1.42456879, -1.56062674],\n",
              "       [-0.27630176,  0.84631002],\n",
              "       [ 1.30256542, -1.75473454],\n",
              "       [-0.49160182,  1.6615628 ],\n",
              "       [-0.77866858, -0.39597992],\n",
              "       [-0.49160182,  1.42863343],\n",
              "       [-0.99396865, -1.48298362],\n",
              "       [-0.77866858,  1.81684904],\n",
              "       [ 0.65666521, -0.55126616],\n",
              "       [-0.49160182,  0.92395314],\n",
              "       [-0.34806844, -1.09476801],\n",
              "       [-0.34806844,  1.54509812],\n",
              "       [ 0.29783176, -1.28887582],\n",
              "       [ 0.010765  ,  1.46745499],\n",
              "       [ 0.36959845, -1.17241113],\n",
              "       [-0.06100169,  1.00159627],\n",
              "       [ 0.58489852, -1.32769738],\n",
              "       [-0.85043527,  1.50627656],\n",
              "       [-0.13276838, -1.91002079],\n",
              "       [-0.6351352 ,  1.07923939],\n",
              "       [-0.34806844, -1.91002079],\n",
              "       [-0.6351352 ,  0.88513158],\n",
              "       [ 1.23079873, -0.59008772],\n",
              "       [-0.70690189,  1.27334719],\n",
              "       [-1.42456879, -1.75473454],\n",
              "       [-0.56336851,  1.6615628 ],\n",
              "       [ 0.80019859, -0.93948177],\n",
              "       [-0.20453507,  0.96277471],\n",
              "       [ 0.22606507, -1.17241113],\n",
              "       [-0.41983513,  1.73920592],\n",
              "       [-0.20453507, -0.90066021],\n",
              "       [-0.49160182,  0.49691598],\n",
              "       [ 0.08253169, -1.44416206],\n",
              "       [-0.77866858,  0.96277471],\n",
              "       [-0.20453507, -1.56062674],\n",
              "       [-0.20453507,  1.62274124],\n",
              "       [ 0.94373197, -1.44416206],\n",
              "       [-0.6351352 ,  1.38981187],\n",
              "       [ 1.37433211, -1.36651894],\n",
              "       [-0.85043527,  0.72984534],\n",
              "       [ 1.4460988 , -1.4053405 ],\n",
              "       [-0.27630176,  1.54509812],\n",
              "       [-0.13276838, -0.7065524 ],\n",
              "       [-0.49160182,  1.38981187],\n",
              "       [ 0.51313183, -1.36651894],\n",
              "       [-0.70690189,  1.46745499],\n",
              "       [ 0.15429838, -0.43480148],\n",
              "       [-0.6351352 ,  1.81684904],\n",
              "       [ 1.08726535, -1.01712489],\n",
              "       [-0.77866858,  0.69102378],\n",
              "       [ 0.15429838, -1.28887582],\n",
              "       [-0.20453507,  1.35099031],\n",
              "       [-0.34806844, -1.05594645],\n",
              "       [-0.49160182,  0.72984534],\n",
              "       [-0.41983513, -1.63826986],\n",
              "       [-0.06100169,  1.58391968],\n",
              "       [ 0.58489852, -1.32769738],\n",
              "       [-0.27630176,  1.11806095],\n",
              "       [ 0.44136514, -0.86183865],\n",
              "       [-0.49160182,  0.92395314],\n",
              "       [-0.49160182, -1.25005425],\n",
              "       [-0.6351352 ,  1.27334719]])"
            ]
          },
          "metadata": {
            "tags": []
          },
          "execution_count": 95
        }
      ]
    },
    {
      "cell_type": "code",
      "metadata": {
        "id": "XsRsvpZXWik9",
        "outputId": "36f30506-69f7-4f92-e80b-a4ead86a5387",
        "colab": {
          "base_uri": "https://localhost:8080/",
          "height": 404
        }
      },
      "source": [
        "plt.figure(1 , figsize = (15 ,6))\n",
        "plt.plot(np.arange(1 , 11) , inertia , 'o')\n",
        "plt.plot(np.arange(1 , 11) , inertia , '-' , alpha = 0.5)\n",
        "plt.xlabel('Number of Clusters') , plt.ylabel('Inertia')\n",
        "plt.title('Age vs Annual Income Elbow')\n",
        "plt.show()"
      ],
      "execution_count": 96,
      "outputs": [
        {
          "output_type": "display_data",
          "data": {
            "image/png": "[encoded data removed]",
            "text/plain": [
              "<Figure size 1080x432 with 1 Axes>"
            ]
          },
          "metadata": {
            "tags": [],
            "needs_background": "light"
          }
        }
      ]
    },
    {
      "cell_type": "code",
      "metadata": {
        "id": "XJ89tCxaWint",
        "outputId": "2e7d03a9-4f56-4fa1-985b-0727bbf330a5",
        "colab": {
          "base_uri": "https://localhost:8080/",
          "height": 204
        }
      },
      "source": [
        "kmeans = (KMeans(n_clusters = 5 ,init='k-means++', n_init = 10 ,max_iter=300, \n",
        "                        tol=0.0001,  random_state= 200  , algorithm='elkan') )\n",
        "\n",
        "kmeans.fit(mall_x)\n",
        "centroid = kmeans.cluster_centers_\n",
        "mall[\"Cluster\"] = kmeans.labels_\n",
        "mall.head()"
      ],
      "execution_count": 97,
      "outputs": [
        {
          "output_type": "execute_result",
          "data": {
            "text/html": [
              "<div>\n",
              "<style scoped>\n",
              "    .dataframe tbody tr th:only-of-type {\n",
              "        vertical-align: middle;\n",
              "    }\n",
              "\n",
              "    .dataframe tbody tr th {\n",
              "        vertical-align: top;\n",
              "    }\n",
              "\n",
              "    .dataframe thead th {\n",
              "        text-align: right;\n",
              "    }\n",
              "</style>\n",
              "<table border=\"1\" class=\"dataframe\">\n",
              "  <thead>\n",
              "    <tr style=\"text-align: right;\">\n",
              "      <th></th>\n",
              "      <th>CustomerID</th>\n",
              "      <th>Gender</th>\n",
              "      <th>Age</th>\n",
              "      <th>Annual Income (k$)</th>\n",
              "      <th>Spending Score (1-100)</th>\n",
              "      <th>Cluster</th>\n",
              "    </tr>\n",
              "  </thead>\n",
              "  <tbody>\n",
              "    <tr>\n",
              "      <th>0</th>\n",
              "      <td>1</td>\n",
              "      <td>Male</td>\n",
              "      <td>19</td>\n",
              "      <td>15</td>\n",
              "      <td>39</td>\n",
              "      <td>4</td>\n",
              "    </tr>\n",
              "    <tr>\n",
              "      <th>1</th>\n",
              "      <td>2</td>\n",
              "      <td>Male</td>\n",
              "      <td>21</td>\n",
              "      <td>15</td>\n",
              "      <td>81</td>\n",
              "      <td>1</td>\n",
              "    </tr>\n",
              "    <tr>\n",
              "      <th>2</th>\n",
              "      <td>3</td>\n",
              "      <td>Female</td>\n",
              "      <td>20</td>\n",
              "      <td>16</td>\n",
              "      <td>6</td>\n",
              "      <td>2</td>\n",
              "    </tr>\n",
              "    <tr>\n",
              "      <th>3</th>\n",
              "      <td>4</td>\n",
              "      <td>Female</td>\n",
              "      <td>23</td>\n",
              "      <td>16</td>\n",
              "      <td>77</td>\n",
              "      <td>1</td>\n",
              "    </tr>\n",
              "    <tr>\n",
              "      <th>4</th>\n",
              "      <td>5</td>\n",
              "      <td>Female</td>\n",
              "      <td>31</td>\n",
              "      <td>17</td>\n",
              "      <td>40</td>\n",
              "      <td>4</td>\n",
              "    </tr>\n",
              "  </tbody>\n",
              "</table>\n",
              "</div>"
            ],
            "text/plain": [
              "   CustomerID  Gender  Age  Annual Income (k$)  Spending Score (1-100)  Cluster\n",
              "0           1    Male   19                  15                      39        4\n",
              "1           2    Male   21                  15                      81        1\n",
              "2           3  Female   20                  16                       6        2\n",
              "3           4  Female   23                  16                      77        1\n",
              "4           5  Female   31                  17                      40        4"
            ]
          },
          "metadata": {
            "tags": []
          },
          "execution_count": 97
        }
      ]
    },
    {
      "cell_type": "code",
      "metadata": {
        "id": "VNMqMFSXlcmR"
      },
      "source": [
        "h = 0.02\n",
        "x_min, x_max = X1[:, 0].min() - 1, X1[:, 0].max() + 1\n",
        "y_min, y_max = X1[:, 1].min() - 1, X1[:, 1].max() + 1\n",
        "xx, yy = np.meshgrid(np.arange(x_min, x_max, h), np.arange(y_min, y_max, h))\n",
        "Z = kmeans.predict(np.c_[xx.ravel(), yy.ravel()]) "
      ],
      "execution_count": 98,
      "outputs": []
    },
    {
      "cell_type": "code",
      "metadata": {
        "id": "o0mQx1XLWisa",
        "outputId": "bcb619d0-9251-473e-b603-7c1f35940a1a",
        "colab": {
          "base_uri": "https://localhost:8080/",
          "height": 442
        }
      },
      "source": [
        "plt.figure(1 , figsize = (15 , 7) )\n",
        "plt.clf()\n",
        "Z = Z.reshape(xx.shape)\n",
        "plt.imshow(Z , interpolation='nearest', \n",
        "           extent=(xx.min(), xx.max(), yy.min(), yy.max()),\n",
        "           cmap = plt.cm.Pastel2, aspect = 'auto', origin='lower')\n",
        "\n",
        "plt.scatter( x = 'Age' ,y = 'Spending Score (1-100)' , data = mall , c = kmeans.labels_ , s = 200 )\n",
        "plt.scatter(x = centroid[: , 0] , y =  centroid[: , 1] , s = 300 , c = 'red' , alpha = 0.5)\n",
        "plt.ylabel('Spending Score (1-100)') , plt.xlabel('Age')\n",
        "plt.show()"
      ],
      "execution_count": 104,
      "outputs": [
        {
          "output_type": "display_data",
          "data": {
            "image/png": "[encoded data removed]",
            "text/plain": [
              "<Figure size 1080x504 with 1 Axes>"
            ]
          },
          "metadata": {
            "tags": [],
            "needs_background": "light"
          }
        }
      ]
    },
    {
      "cell_type": "code",
      "metadata": {
        "id": "Iw7XkrXnWiuw",
        "outputId": "f1ba0dcb-45ac-4612-b387-580009d7079f",
        "colab": {
          "base_uri": "https://localhost:8080/"
        }
      },
      "source": [
        "score = silhouette_score(x_scaled, kmeans.labels_, metric=\"euclidean\")\n",
        "\n",
        "score"
      ],
      "execution_count": 105,
      "outputs": [
        {
          "output_type": "execute_result",
          "data": {
            "text/plain": [
              "0.37925752940376684"
            ]
          },
          "metadata": {
            "tags": []
          },
          "execution_count": 105
        }
      ]
    },
    {
      "cell_type": "code",
      "metadata": {
        "id": "oN2IVuV5q9q1"
      },
      "source": [
        "from scipy.cluster import hierarchy\n",
        "from scipy.spatial import distance_matrix\n",
        "from sklearn.cluster import AgglomerativeClustering\n",
        "from sklearn.preprocessing import StandardScaler\n",
        "import scipy.cluster.hierarchy\n",
        "from scipy.cluster.hierarchy import fcluster"
      ],
      "execution_count": 109,
      "outputs": []
    },
    {
      "cell_type": "code",
      "metadata": {
        "id": "2X4GKiZtrBqK",
        "outputId": "e93166ec-082e-4350-cbfd-466e564ee087",
        "colab": {
          "base_uri": "https://localhost:8080/"
        }
      },
      "source": [
        "aglo_mall = StandardScaler().fit_transform(mall_x)\n",
        "aglo_mall"
      ],
      "execution_count": 110,
      "outputs": [
        {
          "output_type": "execute_result",
          "data": {
            "text/plain": [
              "array([[-1.42456879, -0.43480148],\n",
              "       [-1.28103541,  1.19570407],\n",
              "       [-1.3528021 , -1.71591298],\n",
              "       [-1.13750203,  1.04041783],\n",
              "       [-0.56336851, -0.39597992],\n",
              "       [-1.20926872,  1.00159627],\n",
              "       [-0.27630176, -1.71591298],\n",
              "       [-1.13750203,  1.70038436],\n",
              "       [ 1.80493225, -1.83237767],\n",
              "       [-0.6351352 ,  0.84631002],\n",
              "       [ 2.02023231, -1.4053405 ],\n",
              "       [-0.27630176,  1.89449216],\n",
              "       [ 1.37433211, -1.36651894],\n",
              "       [-1.06573534,  1.04041783],\n",
              "       [-0.13276838, -1.44416206],\n",
              "       [-1.20926872,  1.11806095],\n",
              "       [-0.27630176, -0.59008772],\n",
              "       [-1.3528021 ,  0.61338066],\n",
              "       [ 0.94373197, -0.82301709],\n",
              "       [-0.27630176,  1.8556706 ],\n",
              "       [-0.27630176, -0.59008772],\n",
              "       [-0.99396865,  0.88513158],\n",
              "       [ 0.51313183, -1.75473454],\n",
              "       [-0.56336851,  0.88513158],\n",
              "       [ 1.08726535, -1.4053405 ],\n",
              "       [-0.70690189,  1.23452563],\n",
              "       [ 0.44136514, -0.7065524 ],\n",
              "       [-0.27630176,  0.41927286],\n",
              "       [ 0.08253169, -0.74537397],\n",
              "       [-1.13750203,  1.42863343],\n",
              "       [ 1.51786549, -1.7935561 ],\n",
              "       [-1.28103541,  0.88513158],\n",
              "       [ 1.01549866, -1.7935561 ],\n",
              "       [-1.49633548,  1.62274124],\n",
              "       [ 0.7284319 , -1.4053405 ],\n",
              "       [-1.28103541,  1.19570407],\n",
              "       [ 0.22606507, -1.28887582],\n",
              "       [-0.6351352 ,  0.88513158],\n",
              "       [-0.20453507, -0.93948177],\n",
              "       [-1.3528021 ,  0.96277471],\n",
              "       [ 1.87669894, -0.59008772],\n",
              "       [-1.06573534,  1.62274124],\n",
              "       [ 0.65666521, -0.55126616],\n",
              "       [-0.56336851,  0.41927286],\n",
              "       [ 0.7284319 , -0.86183865],\n",
              "       [-1.06573534,  0.5745591 ],\n",
              "       [ 0.80019859,  0.18634349],\n",
              "       [-0.85043527, -0.12422899],\n",
              "       [-0.70690189, -0.3183368 ],\n",
              "       [-0.56336851, -0.3183368 ],\n",
              "       [ 0.7284319 ,  0.06987881],\n",
              "       [-0.41983513,  0.38045129],\n",
              "       [-0.56336851,  0.14752193],\n",
              "       [ 1.4460988 ,  0.38045129],\n",
              "       [ 0.80019859, -0.20187212],\n",
              "       [ 0.58489852, -0.35715836],\n",
              "       [ 0.87196528, -0.00776431],\n",
              "       [ 2.16376569, -0.16305055],\n",
              "       [-0.85043527,  0.03105725],\n",
              "       [ 1.01549866, -0.16305055],\n",
              "       [ 2.23553238,  0.22516505],\n",
              "       [-1.42456879,  0.18634349],\n",
              "       [ 2.02023231,  0.06987881],\n",
              "       [ 1.08726535,  0.34162973],\n",
              "       [ 1.73316556,  0.03105725],\n",
              "       [-1.49633548,  0.34162973],\n",
              "       [ 0.29783176, -0.00776431],\n",
              "       [ 2.091999  , -0.08540743],\n",
              "       [-1.42456879,  0.34162973],\n",
              "       [-0.49160182, -0.12422899],\n",
              "       [ 2.23553238,  0.18634349],\n",
              "       [ 0.58489852, -0.3183368 ],\n",
              "       [ 1.51786549, -0.04658587],\n",
              "       [ 1.51786549,  0.22516505],\n",
              "       [ 1.4460988 , -0.12422899],\n",
              "       [-0.92220196,  0.14752193],\n",
              "       [ 0.44136514,  0.10870037],\n",
              "       [ 0.08253169, -0.08540743],\n",
              "       [-1.13750203,  0.06987881],\n",
              "       [ 0.7284319 , -0.3183368 ],\n",
              "       [ 1.30256542,  0.03105725],\n",
              "       [-0.06100169,  0.18634349],\n",
              "       [ 2.02023231, -0.35715836],\n",
              "       [ 0.51313183, -0.24069368],\n",
              "       [-1.28103541,  0.26398661],\n",
              "       [ 0.65666521, -0.16305055],\n",
              "       [ 1.15903204,  0.30280817],\n",
              "       [-1.20926872,  0.18634349],\n",
              "       [-0.34806844,  0.38045129],\n",
              "       [ 0.80019859, -0.16305055],\n",
              "       [ 2.091999  ,  0.18634349],\n",
              "       [-1.49633548, -0.35715836],\n",
              "       [ 0.65666521, -0.04658587],\n",
              "       [ 0.08253169, -0.39597992],\n",
              "       [-0.49160182, -0.3183368 ],\n",
              "       [-1.06573534,  0.06987881],\n",
              "       [ 0.58489852, -0.12422899],\n",
              "       [-0.85043527, -0.00776431],\n",
              "       [ 0.65666521, -0.3183368 ],\n",
              "       [-1.3528021 , -0.04658587],\n",
              "       [-1.13750203, -0.35715836],\n",
              "       [ 0.7284319 , -0.08540743],\n",
              "       [ 2.02023231,  0.34162973],\n",
              "       [-0.92220196,  0.18634349],\n",
              "       [ 0.7284319 ,  0.22516505],\n",
              "       [-1.28103541, -0.3183368 ],\n",
              "       [ 1.94846562, -0.00776431],\n",
              "       [ 1.08726535, -0.16305055],\n",
              "       [ 2.091999  , -0.27951524],\n",
              "       [ 1.94846562, -0.08540743],\n",
              "       [ 1.87669894,  0.06987881],\n",
              "       [-1.42456879,  0.14752193],\n",
              "       [-0.06100169, -0.3183368 ],\n",
              "       [-1.42456879, -0.16305055],\n",
              "       [-1.49633548, -0.08540743],\n",
              "       [-1.42456879, -0.00776431],\n",
              "       [ 1.73316556, -0.27951524],\n",
              "       [ 0.7284319 ,  0.34162973],\n",
              "       [ 0.87196528, -0.27951524],\n",
              "       [ 0.80019859,  0.26398661],\n",
              "       [-0.85043527,  0.22516505],\n",
              "       [-0.06100169, -0.39597992],\n",
              "       [ 0.08253169,  0.30280817],\n",
              "       [ 0.010765  ,  1.58391968],\n",
              "       [-1.13750203, -0.82301709],\n",
              "       [-0.56336851,  1.04041783],\n",
              "       [ 0.29783176, -0.59008772],\n",
              "       [ 0.08253169,  1.73920592],\n",
              "       [ 1.4460988 , -1.52180518],\n",
              "       [-0.06100169,  0.96277471],\n",
              "       [ 0.58489852, -1.5994483 ],\n",
              "       [ 0.010765  ,  0.96277471],\n",
              "       [-0.99396865, -0.62890928],\n",
              "       [-0.56336851,  0.80748846],\n",
              "       [-1.3528021 , -1.75473454],\n",
              "       [-0.70690189,  1.46745499],\n",
              "       [ 0.36959845, -1.67709142],\n",
              "       [-0.49160182,  0.88513158],\n",
              "       [-1.42456879, -1.56062674],\n",
              "       [-0.27630176,  0.84631002],\n",
              "       [ 1.30256542, -1.75473454],\n",
              "       [-0.49160182,  1.6615628 ],\n",
              "       [-0.77866858, -0.39597992],\n",
              "       [-0.49160182,  1.42863343],\n",
              "       [-0.99396865, -1.48298362],\n",
              "       [-0.77866858,  1.81684904],\n",
              "       [ 0.65666521, -0.55126616],\n",
              "       [-0.49160182,  0.92395314],\n",
              "       [-0.34806844, -1.09476801],\n",
              "       [-0.34806844,  1.54509812],\n",
              "       [ 0.29783176, -1.28887582],\n",
              "       [ 0.010765  ,  1.46745499],\n",
              "       [ 0.36959845, -1.17241113],\n",
              "       [-0.06100169,  1.00159627],\n",
              "       [ 0.58489852, -1.32769738],\n",
              "       [-0.85043527,  1.50627656],\n",
              "       [-0.13276838, -1.91002079],\n",
              "       [-0.6351352 ,  1.07923939],\n",
              "       [-0.34806844, -1.91002079],\n",
              "       [-0.6351352 ,  0.88513158],\n",
              "       [ 1.23079873, -0.59008772],\n",
              "       [-0.70690189,  1.27334719],\n",
              "       [-1.42456879, -1.75473454],\n",
              "       [-0.56336851,  1.6615628 ],\n",
              "       [ 0.80019859, -0.93948177],\n",
              "       [-0.20453507,  0.96277471],\n",
              "       [ 0.22606507, -1.17241113],\n",
              "       [-0.41983513,  1.73920592],\n",
              "       [-0.20453507, -0.90066021],\n",
              "       [-0.49160182,  0.49691598],\n",
              "       [ 0.08253169, -1.44416206],\n",
              "       [-0.77866858,  0.96277471],\n",
              "       [-0.20453507, -1.56062674],\n",
              "       [-0.20453507,  1.62274124],\n",
              "       [ 0.94373197, -1.44416206],\n",
              "       [-0.6351352 ,  1.38981187],\n",
              "       [ 1.37433211, -1.36651894],\n",
              "       [-0.85043527,  0.72984534],\n",
              "       [ 1.4460988 , -1.4053405 ],\n",
              "       [-0.27630176,  1.54509812],\n",
              "       [-0.13276838, -0.7065524 ],\n",
              "       [-0.49160182,  1.38981187],\n",
              "       [ 0.51313183, -1.36651894],\n",
              "       [-0.70690189,  1.46745499],\n",
              "       [ 0.15429838, -0.43480148],\n",
              "       [-0.6351352 ,  1.81684904],\n",
              "       [ 1.08726535, -1.01712489],\n",
              "       [-0.77866858,  0.69102378],\n",
              "       [ 0.15429838, -1.28887582],\n",
              "       [-0.20453507,  1.35099031],\n",
              "       [-0.34806844, -1.05594645],\n",
              "       [-0.49160182,  0.72984534],\n",
              "       [-0.41983513, -1.63826986],\n",
              "       [-0.06100169,  1.58391968],\n",
              "       [ 0.58489852, -1.32769738],\n",
              "       [-0.27630176,  1.11806095],\n",
              "       [ 0.44136514, -0.86183865],\n",
              "       [-0.49160182,  0.92395314],\n",
              "       [-0.49160182, -1.25005425],\n",
              "       [-0.6351352 ,  1.27334719]])"
            ]
          },
          "metadata": {
            "tags": []
          },
          "execution_count": 110
        }
      ]
    },
    {
      "cell_type": "code",
      "metadata": {
        "id": "5aPhSKmnrBnV"
      },
      "source": [
        "agglom = AgglomerativeClustering(n_clusters=4, linkage='complete')"
      ],
      "execution_count": 148,
      "outputs": []
    },
    {
      "cell_type": "code",
      "metadata": {
        "id": "v0g_xDxZrR1B",
        "outputId": "c30720c2-325b-4b66-a56e-b2dea9b4f776",
        "colab": {
          "base_uri": "https://localhost:8080/"
        }
      },
      "source": [
        "agglom.fit(aglo_mall)\n",
        "agglom.labels_"
      ],
      "execution_count": 149,
      "outputs": [
        {
          "output_type": "execute_result",
          "data": {
            "text/plain": [
              "array([1, 2, 3, 2, 1, 2, 3, 2, 0, 2, 0, 2, 0, 2, 3, 2, 1, 1, 0, 2, 1, 2,\n",
              "       0, 2, 0, 2, 1, 2, 1, 2, 0, 2, 0, 2, 0, 2, 0, 2, 1, 2, 0, 2, 0, 2,\n",
              "       0, 1, 0, 1, 1, 1, 0, 2, 1, 0, 0, 0, 0, 0, 1, 0, 0, 1, 0, 0, 0, 1,\n",
              "       1, 0, 1, 1, 0, 0, 0, 0, 0, 1, 1, 1, 1, 0, 0, 1, 0, 0, 1, 0, 0, 1,\n",
              "       2, 0, 0, 1, 0, 1, 1, 1, 0, 1, 0, 1, 1, 0, 0, 1, 0, 1, 0, 0, 0, 0,\n",
              "       0, 1, 1, 1, 1, 1, 0, 0, 0, 0, 1, 1, 1, 2, 1, 2, 1, 2, 0, 2, 0, 2,\n",
              "       1, 2, 3, 2, 0, 2, 3, 2, 0, 2, 1, 2, 3, 2, 0, 2, 3, 2, 0, 2, 0, 2,\n",
              "       0, 2, 3, 2, 3, 2, 0, 2, 3, 2, 0, 2, 0, 2, 1, 2, 3, 2, 3, 2, 0, 2,\n",
              "       0, 2, 0, 2, 1, 2, 0, 2, 1, 2, 0, 2, 0, 2, 3, 2, 3, 2, 0, 2, 1, 2,\n",
              "       3, 2])"
            ]
          },
          "metadata": {
            "tags": []
          },
          "execution_count": 149
        }
      ]
    },
    {
      "cell_type": "code",
      "metadata": {
        "id": "mMnu-J3brR4B",
        "outputId": "93af468b-b9e7-44a2-c0e8-6d19a3a4e9fc",
        "colab": {
          "base_uri": "https://localhost:8080/"
        }
      },
      "source": [
        "dist_matrix = distance_matrix(aglo_mall,aglo_mall)\n",
        "dist_matrix"
      ],
      "execution_count": 150,
      "outputs": [
        {
          "output_type": "execute_result",
          "data": {
            "text/plain": [
              "array([[0.        , 1.63681098, 1.28312008, ..., 1.64822374, 1.23897718,\n",
              "        1.88174846],\n",
              "       [1.63681098, 0.        , 2.91250139, ..., 0.83489757, 2.57000762,\n",
              "        0.65055018],\n",
              "       [1.28312008, 2.91250139, 0.        , ..., 2.77678935, 0.9791273 ,\n",
              "        3.07420269],\n",
              "       ...,\n",
              "       [1.64822374, 0.83489757, 2.77678935, ..., 0.        , 2.1740074 ,\n",
              "        0.37772746],\n",
              "       [1.23897718, 2.57000762, 0.9791273 , ..., 2.1740074 , 0.        ,\n",
              "        2.5274803 ],\n",
              "       [1.88174846, 0.65055018, 3.07420269, ..., 0.37772746, 2.5274803 ,\n",
              "        0.        ]])"
            ]
          },
          "metadata": {
            "tags": []
          },
          "execution_count": 150
        }
      ]
    },
    {
      "cell_type": "code",
      "metadata": {
        "id": "RMeu0BzHrkbU",
        "outputId": "3713c67d-52e9-41c7-dead-8d17f41c5a3c",
        "colab": {
          "base_uri": "https://localhost:8080/",
          "height": 333
        }
      },
      "source": [
        "Z = hierarchy.linkage(dist_matrix, 'complete')\n",
        "dendro = hierarchy.dendrogram(Z)"
      ],
      "execution_count": 151,
      "outputs": [
        {
          "output_type": "stream",
          "text": [
            "/usr/local/lib/python3.6/dist-packages/ipykernel_launcher.py:1: ClusterWarning:\n",
            "\n",
            "scipy.cluster: The symmetric non-negative hollow observation matrix looks suspiciously like an uncondensed distance matrix\n",
            "\n"
          ],
          "name": "stderr"
        },
        {
          "output_type": "display_data",
          "data": {
            "image/png": "[encoded data removed]",
            "text/plain": [
              "<Figure size 432x288 with 1 Axes>"
            ]
          },
          "metadata": {
            "tags": [],
            "needs_background": "light"
          }
        }
      ]
    },
    {
      "cell_type": "code",
      "metadata": {
        "id": "cu5y4brirkfL",
        "outputId": "9b0c5ac9-4ffa-406e-a8f4-06e82e2015cb",
        "colab": {
          "base_uri": "https://localhost:8080/"
        }
      },
      "source": [
        "clusters = fcluster(Z, 4, criterion='maxclust')\n",
        "metrics.silhouette_score(mall_x,clusters)"
      ],
      "execution_count": 153,
      "outputs": [
        {
          "output_type": "execute_result",
          "data": {
            "text/plain": [
              "0.33181319560300765"
            ]
          },
          "metadata": {
            "tags": []
          },
          "execution_count": 153
        }
      ]
    },
    {
      "cell_type": "code",
      "metadata": {
        "id": "oTbQ8T5YrzI2"
      },
      "source": [
        "aggloms = AgglomerativeClustering(n_clusters=4, linkage='single')"
      ],
      "execution_count": 134,
      "outputs": []
    },
    {
      "cell_type": "code",
      "metadata": {
        "id": "sng1t0trrzMH",
        "outputId": "1e0903f8-a530-482e-8b62-ae7b4ea69134",
        "colab": {
          "base_uri": "https://localhost:8080/"
        }
      },
      "source": [
        "aggloms.fit(aglo_mall)\n",
        "aggloms.labels_"
      ],
      "execution_count": 135,
      "outputs": [
        {
          "output_type": "execute_result",
          "data": {
            "text/plain": [
              "array([0, 0, 1, 0, 0, 0, 0, 0, 0, 0, 2, 0, 0, 0, 0, 0, 0, 0, 0, 0, 0, 0,\n",
              "       0, 0, 0, 0, 0, 0, 0, 0, 0, 0, 0, 0, 0, 0, 0, 0, 0, 0, 0, 0, 0, 0,\n",
              "       0, 0, 0, 0, 0, 0, 0, 0, 0, 0, 0, 0, 0, 0, 0, 0, 0, 0, 0, 0, 0, 0,\n",
              "       0, 0, 0, 0, 0, 0, 0, 0, 0, 0, 0, 0, 0, 0, 0, 0, 0, 0, 0, 0, 0, 0,\n",
              "       0, 0, 0, 0, 0, 0, 0, 0, 0, 0, 0, 0, 0, 0, 0, 0, 0, 0, 0, 0, 0, 0,\n",
              "       0, 0, 0, 0, 0, 0, 0, 0, 0, 0, 0, 0, 0, 0, 0, 0, 0, 0, 0, 0, 0, 0,\n",
              "       0, 0, 1, 0, 0, 0, 1, 0, 0, 0, 0, 0, 3, 0, 0, 0, 0, 0, 0, 0, 0, 0,\n",
              "       0, 0, 0, 0, 0, 0, 0, 0, 1, 0, 0, 0, 0, 0, 0, 0, 0, 0, 0, 0, 0, 0,\n",
              "       0, 0, 0, 0, 0, 0, 0, 0, 0, 0, 0, 0, 0, 0, 0, 0, 0, 0, 0, 0, 0, 0,\n",
              "       0, 0])"
            ]
          },
          "metadata": {
            "tags": []
          },
          "execution_count": 135
        }
      ]
    },
    {
      "cell_type": "code",
      "metadata": {
        "id": "F4uBrFYvrzX_",
        "outputId": "6abb3622-74ff-43d8-db1b-8978f1abed97",
        "colab": {
          "base_uri": "https://localhost:8080/",
          "height": 333
        }
      },
      "source": [
        "Zs = hierarchy.linkage(dist_matrix, 'single')\n",
        "dendros = hierarchy.dendrogram(Zs)"
      ],
      "execution_count": 136,
      "outputs": [
        {
          "output_type": "stream",
          "text": [
            "/usr/local/lib/python3.6/dist-packages/ipykernel_launcher.py:1: ClusterWarning:\n",
            "\n",
            "scipy.cluster: The symmetric non-negative hollow observation matrix looks suspiciously like an uncondensed distance matrix\n",
            "\n"
          ],
          "name": "stderr"
        },
        {
          "output_type": "display_data",
          "data": {
            "image/png": "[encoded data removed]",
            "text/plain": [
              "<Figure size 432x288 with 1 Axes>"
            ]
          },
          "metadata": {
            "tags": [],
            "needs_background": "light"
          }
        }
      ]
    },
    {
      "cell_type": "code",
      "metadata": {
        "id": "AFvugjUfrzbp",
        "outputId": "3da317cd-f173-4c4b-9892-f0a3b120525f",
        "colab": {
          "base_uri": "https://localhost:8080/"
        }
      },
      "source": [
        "clusters = fcluster(Zs, 4, criterion='maxclust')\n",
        "metrics.silhouette_score(mall_x,clusters)"
      ],
      "execution_count": 140,
      "outputs": [
        {
          "output_type": "execute_result",
          "data": {
            "text/plain": [
              "0.2934524619693467"
            ]
          },
          "metadata": {
            "tags": []
          },
          "execution_count": 140
        }
      ]
    },
    {
      "cell_type": "code",
      "metadata": {
        "id": "S2FWjB9Ds9aP"
      },
      "source": [
        "aggloavg = AgglomerativeClustering(n_clusters=4, linkage='average')"
      ],
      "execution_count": 142,
      "outputs": []
    },
    {
      "cell_type": "code",
      "metadata": {
        "id": "jE0Be9N8s9ew",
        "outputId": "0badfdaf-010d-420e-8914-1495f7276a27",
        "colab": {
          "base_uri": "https://localhost:8080/"
        }
      },
      "source": [
        "aggloavg.fit(aglo_mall)\n",
        "aggloavg.labels_"
      ],
      "execution_count": 143,
      "outputs": [
        {
          "output_type": "execute_result",
          "data": {
            "text/plain": [
              "array([0, 0, 3, 0, 0, 0, 2, 0, 2, 0, 2, 0, 2, 0, 2, 0, 2, 0, 2, 0, 2, 0,\n",
              "       2, 0, 2, 0, 2, 0, 2, 0, 2, 0, 2, 0, 2, 0, 2, 0, 2, 0, 1, 0, 1, 0,\n",
              "       2, 0, 1, 0, 0, 0, 1, 0, 0, 1, 1, 1, 1, 1, 0, 1, 1, 0, 1, 1, 1, 0,\n",
              "       1, 1, 0, 0, 1, 1, 1, 1, 1, 0, 1, 1, 0, 1, 1, 1, 1, 1, 0, 1, 1, 0,\n",
              "       0, 1, 1, 0, 1, 2, 0, 0, 1, 0, 1, 0, 0, 1, 1, 0, 1, 0, 1, 1, 1, 1,\n",
              "       1, 0, 2, 0, 0, 0, 1, 1, 1, 1, 0, 2, 1, 0, 0, 0, 2, 0, 2, 0, 2, 0,\n",
              "       0, 0, 3, 0, 2, 0, 3, 0, 2, 0, 0, 0, 3, 0, 1, 0, 2, 0, 2, 0, 2, 0,\n",
              "       2, 0, 2, 0, 2, 0, 2, 0, 3, 0, 2, 0, 2, 0, 2, 0, 2, 0, 2, 0, 2, 0,\n",
              "       2, 0, 2, 0, 2, 0, 2, 0, 2, 0, 2, 0, 2, 0, 2, 0, 2, 0, 2, 0, 2, 0,\n",
              "       2, 0])"
            ]
          },
          "metadata": {
            "tags": []
          },
          "execution_count": 143
        }
      ]
    },
    {
      "cell_type": "code",
      "metadata": {
        "id": "7xYqsWdMs9iv",
        "outputId": "c9516702-7fb4-430a-a53e-000b1ac8a408",
        "colab": {
          "base_uri": "https://localhost:8080/",
          "height": 333
        }
      },
      "source": [
        "Zavg = hierarchy.linkage(dist_matrix, 'average')\n",
        "dendravg = hierarchy.dendrogram(Zavg)"
      ],
      "execution_count": 145,
      "outputs": [
        {
          "output_type": "stream",
          "text": [
            "/usr/local/lib/python3.6/dist-packages/ipykernel_launcher.py:1: ClusterWarning:\n",
            "\n",
            "scipy.cluster: The symmetric non-negative hollow observation matrix looks suspiciously like an uncondensed distance matrix\n",
            "\n"
          ],
          "name": "stderr"
        },
        {
          "output_type": "display_data",
          "data": {
            "image/png": "[encoded data removed]",
            "text/plain": [
              "<Figure size 432x288 with 1 Axes>"
            ]
          },
          "metadata": {
            "tags": [],
            "needs_background": "light"
          }
        }
      ]
    },
    {
      "cell_type": "code",
      "metadata": {
        "id": "ajclGTQws9nC",
        "outputId": "9551fb8a-d33b-4663-9840-324de544ef0a",
        "colab": {
          "base_uri": "https://localhost:8080/"
        }
      },
      "source": [
        "clusters = fcluster(Zavg, 4, criterion='maxclust')\n",
        "metrics.silhouette_score(mall_x,clusters)"
      ],
      "execution_count": 147,
      "outputs": [
        {
          "output_type": "execute_result",
          "data": {
            "text/plain": [
              "0.3145480865144147"
            ]
          },
          "metadata": {
            "tags": []
          },
          "execution_count": 147
        }
      ]
    }
  ]
}