{
  "nbformat": 4,
  "nbformat_minor": 0,
  "metadata": {
    "colab": {
      "name": "IrisSepal_KMeans.ipynb",
      "provenance": [],
      "collapsed_sections": []
    },
    "kernelspec": {
      "name": "python3",
      "display_name": "Python 3"
    }
  },
  "cells": [
    {
      "cell_type": "markdown",
      "metadata": {
        "id": "ks6HLKaIYnY0"
      },
      "source": [
        "#**SEPAL OF IRIS** \n"
      ]
    },
    {
      "cell_type": "markdown",
      "metadata": {
        "id": "noT0nM6gVjds"
      },
      "source": [
        "##Import Library\n",
        "---\n",
        "Import terlebih dahulu library yang dibutuhkan"
      ]
    },
    {
      "cell_type": "code",
      "metadata": {
        "id": "E-Oq1dPVTJOg"
      },
      "source": [
        "import pandas as pd\n",
        "import seaborn as sns\n",
        "import numpy as np\n",
        "import matplotlib.pyplot as plt\n",
        "from sklearn.cluster import KMeans\n",
        "from sklearn.preprocessing import StandardScaler"
      ],
      "execution_count": 64,
      "outputs": []
    },
    {
      "cell_type": "markdown",
      "metadata": {
        "id": "8pVS1xHzXH2j"
      },
      "source": [
        "##Import Data\n",
        "---\n",
        "Import data yang akan diclusterkan. Kali ini menggunakan KMeans Clustering."
      ]
    },
    {
      "cell_type": "code",
      "metadata": {
        "id": "HLy3doaDXHiw",
        "outputId": "7dd22b05-5967-4f78-b716-81e36909eb63",
        "colab": {
          "base_uri": "https://localhost:8080/",
          "height": 204
        }
      },
      "source": [
        "iris = pd.read_csv('Iris.csv')\n",
        "iris.head()"
      ],
      "execution_count": 65,
      "outputs": [
        {
          "output_type": "execute_result",
          "data": {
            "text/html": [
              "<div>\n",
              "<style scoped>\n",
              "    .dataframe tbody tr th:only-of-type {\n",
              "        vertical-align: middle;\n",
              "    }\n",
              "\n",
              "    .dataframe tbody tr th {\n",
              "        vertical-align: top;\n",
              "    }\n",
              "\n",
              "    .dataframe thead th {\n",
              "        text-align: right;\n",
              "    }\n",
              "</style>\n",
              "<table border=\"1\" class=\"dataframe\">\n",
              "  <thead>\n",
              "    <tr style=\"text-align: right;\">\n",
              "      <th></th>\n",
              "      <th>Id</th>\n",
              "      <th>SepalLengthCm</th>\n",
              "      <th>SepalWidthCm</th>\n",
              "      <th>PetalLengthCm</th>\n",
              "      <th>PetalWidthCm</th>\n",
              "      <th>Species</th>\n",
              "    </tr>\n",
              "  </thead>\n",
              "  <tbody>\n",
              "    <tr>\n",
              "      <th>0</th>\n",
              "      <td>1</td>\n",
              "      <td>5.1</td>\n",
              "      <td>3.5</td>\n",
              "      <td>1.4</td>\n",
              "      <td>0.2</td>\n",
              "      <td>Iris-setosa</td>\n",
              "    </tr>\n",
              "    <tr>\n",
              "      <th>1</th>\n",
              "      <td>2</td>\n",
              "      <td>4.9</td>\n",
              "      <td>3.0</td>\n",
              "      <td>1.4</td>\n",
              "      <td>0.2</td>\n",
              "      <td>Iris-setosa</td>\n",
              "    </tr>\n",
              "    <tr>\n",
              "      <th>2</th>\n",
              "      <td>3</td>\n",
              "      <td>4.7</td>\n",
              "      <td>3.2</td>\n",
              "      <td>1.3</td>\n",
              "      <td>0.2</td>\n",
              "      <td>Iris-setosa</td>\n",
              "    </tr>\n",
              "    <tr>\n",
              "      <th>3</th>\n",
              "      <td>4</td>\n",
              "      <td>4.6</td>\n",
              "      <td>3.1</td>\n",
              "      <td>1.5</td>\n",
              "      <td>0.2</td>\n",
              "      <td>Iris-setosa</td>\n",
              "    </tr>\n",
              "    <tr>\n",
              "      <th>4</th>\n",
              "      <td>5</td>\n",
              "      <td>5.0</td>\n",
              "      <td>3.6</td>\n",
              "      <td>1.4</td>\n",
              "      <td>0.2</td>\n",
              "      <td>Iris-setosa</td>\n",
              "    </tr>\n",
              "  </tbody>\n",
              "</table>\n",
              "</div>"
            ],
            "text/plain": [
              "   Id  SepalLengthCm  SepalWidthCm  PetalLengthCm  PetalWidthCm      Species\n",
              "0   1            5.1           3.5            1.4           0.2  Iris-setosa\n",
              "1   2            4.9           3.0            1.4           0.2  Iris-setosa\n",
              "2   3            4.7           3.2            1.3           0.2  Iris-setosa\n",
              "3   4            4.6           3.1            1.5           0.2  Iris-setosa\n",
              "4   5            5.0           3.6            1.4           0.2  Iris-setosa"
            ]
          },
          "metadata": {
            "tags": []
          },
          "execution_count": 65
        }
      ]
    },
    {
      "cell_type": "markdown",
      "metadata": {
        "id": "HLL7zygEXz8E"
      },
      "source": [
        "##Drop Data yang Tidak Diperlukan\n",
        "---\n",
        "\n",
        "Disini akan melakukan drop pada tabel yang tidak diperlukan, yaitu Species.\n",
        "\n"
      ]
    },
    {
      "cell_type": "code",
      "metadata": {
        "id": "U5EUKd-5X4bp",
        "outputId": "c97ab0a4-42d8-4716-b017-b0737c74bf9f",
        "colab": {
          "base_uri": "https://localhost:8080/",
          "height": 204
        }
      },
      "source": [
        "iris = iris.drop(['Species', 'PetalLengthCm', 'PetalWidthCm'], axis = 1)\n",
        "iris.head()"
      ],
      "execution_count": 66,
      "outputs": [
        {
          "output_type": "execute_result",
          "data": {
            "text/html": [
              "<div>\n",
              "<style scoped>\n",
              "    .dataframe tbody tr th:only-of-type {\n",
              "        vertical-align: middle;\n",
              "    }\n",
              "\n",
              "    .dataframe tbody tr th {\n",
              "        vertical-align: top;\n",
              "    }\n",
              "\n",
              "    .dataframe thead th {\n",
              "        text-align: right;\n",
              "    }\n",
              "</style>\n",
              "<table border=\"1\" class=\"dataframe\">\n",
              "  <thead>\n",
              "    <tr style=\"text-align: right;\">\n",
              "      <th></th>\n",
              "      <th>Id</th>\n",
              "      <th>SepalLengthCm</th>\n",
              "      <th>SepalWidthCm</th>\n",
              "    </tr>\n",
              "  </thead>\n",
              "  <tbody>\n",
              "    <tr>\n",
              "      <th>0</th>\n",
              "      <td>1</td>\n",
              "      <td>5.1</td>\n",
              "      <td>3.5</td>\n",
              "    </tr>\n",
              "    <tr>\n",
              "      <th>1</th>\n",
              "      <td>2</td>\n",
              "      <td>4.9</td>\n",
              "      <td>3.0</td>\n",
              "    </tr>\n",
              "    <tr>\n",
              "      <th>2</th>\n",
              "      <td>3</td>\n",
              "      <td>4.7</td>\n",
              "      <td>3.2</td>\n",
              "    </tr>\n",
              "    <tr>\n",
              "      <th>3</th>\n",
              "      <td>4</td>\n",
              "      <td>4.6</td>\n",
              "      <td>3.1</td>\n",
              "    </tr>\n",
              "    <tr>\n",
              "      <th>4</th>\n",
              "      <td>5</td>\n",
              "      <td>5.0</td>\n",
              "      <td>3.6</td>\n",
              "    </tr>\n",
              "  </tbody>\n",
              "</table>\n",
              "</div>"
            ],
            "text/plain": [
              "   Id  SepalLengthCm  SepalWidthCm\n",
              "0   1            5.1           3.5\n",
              "1   2            4.9           3.0\n",
              "2   3            4.7           3.2\n",
              "3   4            4.6           3.1\n",
              "4   5            5.0           3.6"
            ]
          },
          "metadata": {
            "tags": []
          },
          "execution_count": 66
        }
      ]
    },
    {
      "cell_type": "markdown",
      "metadata": {
        "id": "QWVgfHbWikS-"
      },
      "source": [
        "##Pemilihan Tabel\n",
        "\n",
        "Disini kita hanya akan membutuhkan tabel id, SepalLengthCm, dan SepalWidthCm. "
      ]
    },
    {
      "cell_type": "code",
      "metadata": {
        "id": "ARv87Ox6aFB-",
        "outputId": "7602dd52-99d9-47e8-a2e4-317a8ea09c08",
        "colab": {
          "base_uri": "https://localhost:8080/",
          "height": 204
        }
      },
      "source": [
        "iris_x = iris.iloc[:, 1:3]\n",
        "iris_x.head()"
      ],
      "execution_count": 74,
      "outputs": [
        {
          "output_type": "execute_result",
          "data": {
            "text/html": [
              "<div>\n",
              "<style scoped>\n",
              "    .dataframe tbody tr th:only-of-type {\n",
              "        vertical-align: middle;\n",
              "    }\n",
              "\n",
              "    .dataframe tbody tr th {\n",
              "        vertical-align: top;\n",
              "    }\n",
              "\n",
              "    .dataframe thead th {\n",
              "        text-align: right;\n",
              "    }\n",
              "</style>\n",
              "<table border=\"1\" class=\"dataframe\">\n",
              "  <thead>\n",
              "    <tr style=\"text-align: right;\">\n",
              "      <th></th>\n",
              "      <th>SepalLengthCm</th>\n",
              "      <th>SepalWidthCm</th>\n",
              "    </tr>\n",
              "  </thead>\n",
              "  <tbody>\n",
              "    <tr>\n",
              "      <th>0</th>\n",
              "      <td>5.1</td>\n",
              "      <td>3.5</td>\n",
              "    </tr>\n",
              "    <tr>\n",
              "      <th>1</th>\n",
              "      <td>4.9</td>\n",
              "      <td>3.0</td>\n",
              "    </tr>\n",
              "    <tr>\n",
              "      <th>2</th>\n",
              "      <td>4.7</td>\n",
              "      <td>3.2</td>\n",
              "    </tr>\n",
              "    <tr>\n",
              "      <th>3</th>\n",
              "      <td>4.6</td>\n",
              "      <td>3.1</td>\n",
              "    </tr>\n",
              "    <tr>\n",
              "      <th>4</th>\n",
              "      <td>5.0</td>\n",
              "      <td>3.6</td>\n",
              "    </tr>\n",
              "  </tbody>\n",
              "</table>\n",
              "</div>"
            ],
            "text/plain": [
              "   SepalLengthCm  SepalWidthCm\n",
              "0            5.1           3.5\n",
              "1            4.9           3.0\n",
              "2            4.7           3.2\n",
              "3            4.6           3.1\n",
              "4            5.0           3.6"
            ]
          },
          "metadata": {
            "tags": []
          },
          "execution_count": 74
        }
      ]
    },
    {
      "cell_type": "markdown",
      "metadata": {
        "id": "6IG1s1OPbMea"
      },
      "source": [
        "##Seaborn Scatterplot\n",
        "---\n",
        "\n",
        "Disini akan ditampilkan persebaran datanya menggunakan fungsi scatter plot yang dimiliki oleh Seaborn."
      ]
    },
    {
      "cell_type": "code",
      "metadata": {
        "id": "BjJBHz3fkhpN",
        "outputId": "1d88dd0c-c632-4d06-b484-d73b13785293",
        "colab": {
          "base_uri": "https://localhost:8080/",
          "height": 299
        }
      },
      "source": [
        "sns.scatterplot(x=\"SepalLengthCm\", y=\"SepalWidthCm\", data=iris, s=100, color=\"red\", alpha = 0.5)"
      ],
      "execution_count": 68,
      "outputs": [
        {
          "output_type": "execute_result",
          "data": {
            "text/plain": [
              "<matplotlib.axes._subplots.AxesSubplot at 0x7fab275738d0>"
            ]
          },
          "metadata": {
            "tags": []
          },
          "execution_count": 68
        },
        {
          "output_type": "display_data",
          "data": {
            "image/png": "[encoded data removed]",
            "text/plain": [
              "<Figure size 432x288 with 1 Axes>"
            ]
          },
          "metadata": {
            "tags": [],
            "needs_background": "light"
          }
        }
      ]
    },
    {
      "cell_type": "markdown",
      "metadata": {
        "id": "xuFCksjnkbqm"
      },
      "source": [
        ""
      ]
    },
    {
      "cell_type": "code",
      "metadata": {
        "id": "itSiJEspbMm6",
        "outputId": "544d5af1-faba-4a20-883c-57569d5d2bae",
        "colab": {
          "base_uri": "https://localhost:8080/",
          "height": 1000
        }
      },
      "source": [
        "x_array =  np.array(iris_x)\n",
        "print(x_array)"
      ],
      "execution_count": 69,
      "outputs": [
        {
          "output_type": "stream",
          "text": [
            "[[5.1 3.5]\n",
            " [4.9 3. ]\n",
            " [4.7 3.2]\n",
            " [4.6 3.1]\n",
            " [5.  3.6]\n",
            " [5.4 3.9]\n",
            " [4.6 3.4]\n",
            " [5.  3.4]\n",
            " [4.4 2.9]\n",
            " [4.9 3.1]\n",
            " [5.4 3.7]\n",
            " [4.8 3.4]\n",
            " [4.8 3. ]\n",
            " [4.3 3. ]\n",
            " [5.8 4. ]\n",
            " [5.7 4.4]\n",
            " [5.4 3.9]\n",
            " [5.1 3.5]\n",
            " [5.7 3.8]\n",
            " [5.1 3.8]\n",
            " [5.4 3.4]\n",
            " [5.1 3.7]\n",
            " [4.6 3.6]\n",
            " [5.1 3.3]\n",
            " [4.8 3.4]\n",
            " [5.  3. ]\n",
            " [5.  3.4]\n",
            " [5.2 3.5]\n",
            " [5.2 3.4]\n",
            " [4.7 3.2]\n",
            " [4.8 3.1]\n",
            " [5.4 3.4]\n",
            " [5.2 4.1]\n",
            " [5.5 4.2]\n",
            " [4.9 3.1]\n",
            " [5.  3.2]\n",
            " [5.5 3.5]\n",
            " [4.9 3.1]\n",
            " [4.4 3. ]\n",
            " [5.1 3.4]\n",
            " [5.  3.5]\n",
            " [4.5 2.3]\n",
            " [4.4 3.2]\n",
            " [5.  3.5]\n",
            " [5.1 3.8]\n",
            " [4.8 3. ]\n",
            " [5.1 3.8]\n",
            " [4.6 3.2]\n",
            " [5.3 3.7]\n",
            " [5.  3.3]\n",
            " [7.  3.2]\n",
            " [6.4 3.2]\n",
            " [6.9 3.1]\n",
            " [5.5 2.3]\n",
            " [6.5 2.8]\n",
            " [5.7 2.8]\n",
            " [6.3 3.3]\n",
            " [4.9 2.4]\n",
            " [6.6 2.9]\n",
            " [5.2 2.7]\n",
            " [5.  2. ]\n",
            " [5.9 3. ]\n",
            " [6.  2.2]\n",
            " [6.1 2.9]\n",
            " [5.6 2.9]\n",
            " [6.7 3.1]\n",
            " [5.6 3. ]\n",
            " [5.8 2.7]\n",
            " [6.2 2.2]\n",
            " [5.6 2.5]\n",
            " [5.9 3.2]\n",
            " [6.1 2.8]\n",
            " [6.3 2.5]\n",
            " [6.1 2.8]\n",
            " [6.4 2.9]\n",
            " [6.6 3. ]\n",
            " [6.8 2.8]\n",
            " [6.7 3. ]\n",
            " [6.  2.9]\n",
            " [5.7 2.6]\n",
            " [5.5 2.4]\n",
            " [5.5 2.4]\n",
            " [5.8 2.7]\n",
            " [6.  2.7]\n",
            " [5.4 3. ]\n",
            " [6.  3.4]\n",
            " [6.7 3.1]\n",
            " [6.3 2.3]\n",
            " [5.6 3. ]\n",
            " [5.5 2.5]\n",
            " [5.5 2.6]\n",
            " [6.1 3. ]\n",
            " [5.8 2.6]\n",
            " [5.  2.3]\n",
            " [5.6 2.7]\n",
            " [5.7 3. ]\n",
            " [5.7 2.9]\n",
            " [6.2 2.9]\n",
            " [5.1 2.5]\n",
            " [5.7 2.8]\n",
            " [6.3 3.3]\n",
            " [5.8 2.7]\n",
            " [7.1 3. ]\n",
            " [6.3 2.9]\n",
            " [6.5 3. ]\n",
            " [7.6 3. ]\n",
            " [4.9 2.5]\n",
            " [7.3 2.9]\n",
            " [6.7 2.5]\n",
            " [7.2 3.6]\n",
            " [6.5 3.2]\n",
            " [6.4 2.7]\n",
            " [6.8 3. ]\n",
            " [5.7 2.5]\n",
            " [5.8 2.8]\n",
            " [6.4 3.2]\n",
            " [6.5 3. ]\n",
            " [7.7 3.8]\n",
            " [7.7 2.6]\n",
            " [6.  2.2]\n",
            " [6.9 3.2]\n",
            " [5.6 2.8]\n",
            " [7.7 2.8]\n",
            " [6.3 2.7]\n",
            " [6.7 3.3]\n",
            " [7.2 3.2]\n",
            " [6.2 2.8]\n",
            " [6.1 3. ]\n",
            " [6.4 2.8]\n",
            " [7.2 3. ]\n",
            " [7.4 2.8]\n",
            " [7.9 3.8]\n",
            " [6.4 2.8]\n",
            " [6.3 2.8]\n",
            " [6.1 2.6]\n",
            " [7.7 3. ]\n",
            " [6.3 3.4]\n",
            " [6.4 3.1]\n",
            " [6.  3. ]\n",
            " [6.9 3.1]\n",
            " [6.7 3.1]\n",
            " [6.9 3.1]\n",
            " [5.8 2.7]\n",
            " [6.8 3.2]\n",
            " [6.7 3.3]\n",
            " [6.7 3. ]\n",
            " [6.3 2.5]\n",
            " [6.5 3. ]\n",
            " [6.2 3.4]\n",
            " [5.9 3. ]]\n"
          ],
          "name": "stdout"
        }
      ]
    },
    {
      "cell_type": "markdown",
      "metadata": {
        "id": "fMXFInWXbojD"
      },
      "source": [
        ""
      ]
    },
    {
      "cell_type": "code",
      "metadata": {
        "id": "4Z0mf_0aborr",
        "outputId": "3711611b-f7ea-4654-c85a-4b9c84e3ff20",
        "colab": {
          "base_uri": "https://localhost:8080/",
          "height": 1000
        }
      },
      "source": [
        "scaler = StandardScaler()\n",
        "x_scaled = scaler.fit_transform(x_array)\n",
        "x_scaled"
      ],
      "execution_count": 70,
      "outputs": [
        {
          "output_type": "execute_result",
          "data": {
            "text/plain": [
              "array([[-0.90068117,  1.03205722],\n",
              "       [-1.14301691, -0.1249576 ],\n",
              "       [-1.38535265,  0.33784833],\n",
              "       [-1.50652052,  0.10644536],\n",
              "       [-1.02184904,  1.26346019],\n",
              "       [-0.53717756,  1.95766909],\n",
              "       [-1.50652052,  0.80065426],\n",
              "       [-1.02184904,  0.80065426],\n",
              "       [-1.74885626, -0.35636057],\n",
              "       [-1.14301691,  0.10644536],\n",
              "       [-0.53717756,  1.49486315],\n",
              "       [-1.26418478,  0.80065426],\n",
              "       [-1.26418478, -0.1249576 ],\n",
              "       [-1.87002413, -0.1249576 ],\n",
              "       [-0.05250608,  2.18907205],\n",
              "       [-0.17367395,  3.11468391],\n",
              "       [-0.53717756,  1.95766909],\n",
              "       [-0.90068117,  1.03205722],\n",
              "       [-0.17367395,  1.72626612],\n",
              "       [-0.90068117,  1.72626612],\n",
              "       [-0.53717756,  0.80065426],\n",
              "       [-0.90068117,  1.49486315],\n",
              "       [-1.50652052,  1.26346019],\n",
              "       [-0.90068117,  0.56925129],\n",
              "       [-1.26418478,  0.80065426],\n",
              "       [-1.02184904, -0.1249576 ],\n",
              "       [-1.02184904,  0.80065426],\n",
              "       [-0.7795133 ,  1.03205722],\n",
              "       [-0.7795133 ,  0.80065426],\n",
              "       [-1.38535265,  0.33784833],\n",
              "       [-1.26418478,  0.10644536],\n",
              "       [-0.53717756,  0.80065426],\n",
              "       [-0.7795133 ,  2.42047502],\n",
              "       [-0.41600969,  2.65187798],\n",
              "       [-1.14301691,  0.10644536],\n",
              "       [-1.02184904,  0.33784833],\n",
              "       [-0.41600969,  1.03205722],\n",
              "       [-1.14301691,  0.10644536],\n",
              "       [-1.74885626, -0.1249576 ],\n",
              "       [-0.90068117,  0.80065426],\n",
              "       [-1.02184904,  1.03205722],\n",
              "       [-1.62768839, -1.74477836],\n",
              "       [-1.74885626,  0.33784833],\n",
              "       [-1.02184904,  1.03205722],\n",
              "       [-0.90068117,  1.72626612],\n",
              "       [-1.26418478, -0.1249576 ],\n",
              "       [-0.90068117,  1.72626612],\n",
              "       [-1.50652052,  0.33784833],\n",
              "       [-0.65834543,  1.49486315],\n",
              "       [-1.02184904,  0.56925129],\n",
              "       [ 1.40150837,  0.33784833],\n",
              "       [ 0.67450115,  0.33784833],\n",
              "       [ 1.2803405 ,  0.10644536],\n",
              "       [-0.41600969, -1.74477836],\n",
              "       [ 0.79566902, -0.58776353],\n",
              "       [-0.17367395, -0.58776353],\n",
              "       [ 0.55333328,  0.56925129],\n",
              "       [-1.14301691, -1.51337539],\n",
              "       [ 0.91683689, -0.35636057],\n",
              "       [-0.7795133 , -0.8191665 ],\n",
              "       [-1.02184904, -2.43898725],\n",
              "       [ 0.06866179, -0.1249576 ],\n",
              "       [ 0.18982966, -1.97618132],\n",
              "       [ 0.31099753, -0.35636057],\n",
              "       [-0.29484182, -0.35636057],\n",
              "       [ 1.03800476,  0.10644536],\n",
              "       [-0.29484182, -0.1249576 ],\n",
              "       [-0.05250608, -0.8191665 ],\n",
              "       [ 0.4321654 , -1.97618132],\n",
              "       [-0.29484182, -1.28197243],\n",
              "       [ 0.06866179,  0.33784833],\n",
              "       [ 0.31099753, -0.58776353],\n",
              "       [ 0.55333328, -1.28197243],\n",
              "       [ 0.31099753, -0.58776353],\n",
              "       [ 0.67450115, -0.35636057],\n",
              "       [ 0.91683689, -0.1249576 ],\n",
              "       [ 1.15917263, -0.58776353],\n",
              "       [ 1.03800476, -0.1249576 ],\n",
              "       [ 0.18982966, -0.35636057],\n",
              "       [-0.17367395, -1.05056946],\n",
              "       [-0.41600969, -1.51337539],\n",
              "       [-0.41600969, -1.51337539],\n",
              "       [-0.05250608, -0.8191665 ],\n",
              "       [ 0.18982966, -0.8191665 ],\n",
              "       [-0.53717756, -0.1249576 ],\n",
              "       [ 0.18982966,  0.80065426],\n",
              "       [ 1.03800476,  0.10644536],\n",
              "       [ 0.55333328, -1.74477836],\n",
              "       [-0.29484182, -0.1249576 ],\n",
              "       [-0.41600969, -1.28197243],\n",
              "       [-0.41600969, -1.05056946],\n",
              "       [ 0.31099753, -0.1249576 ],\n",
              "       [-0.05250608, -1.05056946],\n",
              "       [-1.02184904, -1.74477836],\n",
              "       [-0.29484182, -0.8191665 ],\n",
              "       [-0.17367395, -0.1249576 ],\n",
              "       [-0.17367395, -0.35636057],\n",
              "       [ 0.4321654 , -0.35636057],\n",
              "       [-0.90068117, -1.28197243],\n",
              "       [-0.17367395, -0.58776353],\n",
              "       [ 0.55333328,  0.56925129],\n",
              "       [-0.05250608, -0.8191665 ],\n",
              "       [ 1.52267624, -0.1249576 ],\n",
              "       [ 0.55333328, -0.35636057],\n",
              "       [ 0.79566902, -0.1249576 ],\n",
              "       [ 2.12851559, -0.1249576 ],\n",
              "       [-1.14301691, -1.28197243],\n",
              "       [ 1.76501198, -0.35636057],\n",
              "       [ 1.03800476, -1.28197243],\n",
              "       [ 1.64384411,  1.26346019],\n",
              "       [ 0.79566902,  0.33784833],\n",
              "       [ 0.67450115, -0.8191665 ],\n",
              "       [ 1.15917263, -0.1249576 ],\n",
              "       [-0.17367395, -1.28197243],\n",
              "       [-0.05250608, -0.58776353],\n",
              "       [ 0.67450115,  0.33784833],\n",
              "       [ 0.79566902, -0.1249576 ],\n",
              "       [ 2.24968346,  1.72626612],\n",
              "       [ 2.24968346, -1.05056946],\n",
              "       [ 0.18982966, -1.97618132],\n",
              "       [ 1.2803405 ,  0.33784833],\n",
              "       [-0.29484182, -0.58776353],\n",
              "       [ 2.24968346, -0.58776353],\n",
              "       [ 0.55333328, -0.8191665 ],\n",
              "       [ 1.03800476,  0.56925129],\n",
              "       [ 1.64384411,  0.33784833],\n",
              "       [ 0.4321654 , -0.58776353],\n",
              "       [ 0.31099753, -0.1249576 ],\n",
              "       [ 0.67450115, -0.58776353],\n",
              "       [ 1.64384411, -0.1249576 ],\n",
              "       [ 1.88617985, -0.58776353],\n",
              "       [ 2.4920192 ,  1.72626612],\n",
              "       [ 0.67450115, -0.58776353],\n",
              "       [ 0.55333328, -0.58776353],\n",
              "       [ 0.31099753, -1.05056946],\n",
              "       [ 2.24968346, -0.1249576 ],\n",
              "       [ 0.55333328,  0.80065426],\n",
              "       [ 0.67450115,  0.10644536],\n",
              "       [ 0.18982966, -0.1249576 ],\n",
              "       [ 1.2803405 ,  0.10644536],\n",
              "       [ 1.03800476,  0.10644536],\n",
              "       [ 1.2803405 ,  0.10644536],\n",
              "       [-0.05250608, -0.8191665 ],\n",
              "       [ 1.15917263,  0.33784833],\n",
              "       [ 1.03800476,  0.56925129],\n",
              "       [ 1.03800476, -0.1249576 ],\n",
              "       [ 0.55333328, -1.28197243],\n",
              "       [ 0.79566902, -0.1249576 ],\n",
              "       [ 0.4321654 ,  0.80065426],\n",
              "       [ 0.06866179, -0.1249576 ]])"
            ]
          },
          "metadata": {
            "tags": []
          },
          "execution_count": 70
        }
      ]
    },
    {
      "cell_type": "markdown",
      "metadata": {
        "id": "NM7IJiQGbuaD"
      },
      "source": [
        ""
      ]
    },
    {
      "cell_type": "code",
      "metadata": {
        "id": "hss1B30IbumS",
        "outputId": "e88a973c-d283-4129-b369-f6897493e7cb",
        "colab": {
          "base_uri": "https://localhost:8080/",
          "height": 85
        }
      },
      "source": [
        "kmeans = KMeans(init = \"k-means++\", n_clusters = 4, random_state=100)\n",
        "kmeans.fit(x_scaled)\n",
        "center = kmeans.cluster_centers_\n",
        "center\n"
      ],
      "execution_count": 71,
      "outputs": [
        {
          "output_type": "execute_result",
          "data": {
            "text/plain": [
              "array([[-0.10339658, -0.97189245],\n",
              "       [-0.59372257,  1.8651079 ],\n",
              "       [ 1.09616533,  0.09718925],\n",
              "       [-1.16378855,  0.45024406]])"
            ]
          },
          "metadata": {
            "tags": []
          },
          "execution_count": 71
        }
      ]
    },
    {
      "cell_type": "markdown",
      "metadata": {
        "id": "SAsVpjKEgW2a"
      },
      "source": [
        ""
      ]
    },
    {
      "cell_type": "code",
      "metadata": {
        "id": "0RgQfQergWfM",
        "outputId": "7d9a2526-ddf1-4892-ec04-013685d4396e",
        "colab": {
          "base_uri": "https://localhost:8080/",
          "height": 204
        }
      },
      "source": [
        "kmeans.labels_\n",
        "iris[\"Cluster\"] = kmeans.labels_\n",
        "iris.head()"
      ],
      "execution_count": 72,
      "outputs": [
        {
          "output_type": "execute_result",
          "data": {
            "text/html": [
              "<div>\n",
              "<style scoped>\n",
              "    .dataframe tbody tr th:only-of-type {\n",
              "        vertical-align: middle;\n",
              "    }\n",
              "\n",
              "    .dataframe tbody tr th {\n",
              "        vertical-align: top;\n",
              "    }\n",
              "\n",
              "    .dataframe thead th {\n",
              "        text-align: right;\n",
              "    }\n",
              "</style>\n",
              "<table border=\"1\" class=\"dataframe\">\n",
              "  <thead>\n",
              "    <tr style=\"text-align: right;\">\n",
              "      <th></th>\n",
              "      <th>Id</th>\n",
              "      <th>SepalLengthCm</th>\n",
              "      <th>SepalWidthCm</th>\n",
              "      <th>Cluster</th>\n",
              "    </tr>\n",
              "  </thead>\n",
              "  <tbody>\n",
              "    <tr>\n",
              "      <th>0</th>\n",
              "      <td>1</td>\n",
              "      <td>5.1</td>\n",
              "      <td>3.5</td>\n",
              "      <td>3</td>\n",
              "    </tr>\n",
              "    <tr>\n",
              "      <th>1</th>\n",
              "      <td>2</td>\n",
              "      <td>4.9</td>\n",
              "      <td>3.0</td>\n",
              "      <td>3</td>\n",
              "    </tr>\n",
              "    <tr>\n",
              "      <th>2</th>\n",
              "      <td>3</td>\n",
              "      <td>4.7</td>\n",
              "      <td>3.2</td>\n",
              "      <td>3</td>\n",
              "    </tr>\n",
              "    <tr>\n",
              "      <th>3</th>\n",
              "      <td>4</td>\n",
              "      <td>4.6</td>\n",
              "      <td>3.1</td>\n",
              "      <td>3</td>\n",
              "    </tr>\n",
              "    <tr>\n",
              "      <th>4</th>\n",
              "      <td>5</td>\n",
              "      <td>5.0</td>\n",
              "      <td>3.6</td>\n",
              "      <td>1</td>\n",
              "    </tr>\n",
              "  </tbody>\n",
              "</table>\n",
              "</div>"
            ],
            "text/plain": [
              "   Id  SepalLengthCm  SepalWidthCm  Cluster\n",
              "0   1            5.1           3.5        3\n",
              "1   2            4.9           3.0        3\n",
              "2   3            4.7           3.2        3\n",
              "3   4            4.6           3.1        3\n",
              "4   5            5.0           3.6        1"
            ]
          },
          "metadata": {
            "tags": []
          },
          "execution_count": 72
        }
      ]
    },
    {
      "cell_type": "markdown",
      "metadata": {
        "id": "X6zIEVpQmRZ3"
      },
      "source": [
        ""
      ]
    },
    {
      "cell_type": "code",
      "metadata": {
        "id": "qhSy2_IygWd-",
        "outputId": "a82a42e9-f164-4f8f-f5c3-ea87fdd805e4",
        "colab": {
          "base_uri": "https://localhost:8080/",
          "height": 295
        }
      },
      "source": [
        "fig, ax = plt.subplots()\n",
        "sct = ax.scatter(x_scaled[:,1], x_scaled[:,0], s = 100,\n",
        "c = iris.Cluster, marker = \"o\", alpha = 0.5)\n",
        "center\n",
        "ax.scatter(center[:,1], center[:,0], c='blue', s=200, alpha=0.5);plt.title(\"Hasil Clustering K-Means\")\n",
        "plt.xlabel(\"Scaled Sepal Length\")\n",
        "plt.ylabel(\"Scaled Sepal Width\")\n",
        "plt.show()"
      ],
      "execution_count": 73,
      "outputs": [
        {
          "output_type": "display_data",
          "data": {
            "image/png": "[encoded data removed]",
            "text/plain": [
              "<Figure size 432x288 with 1 Axes>"
            ]
          },
          "metadata": {
            "tags": [],
            "needs_background": "light"
          }
        }
      ]
    }
  ]
}