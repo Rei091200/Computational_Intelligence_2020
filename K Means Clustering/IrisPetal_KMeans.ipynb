{
  "nbformat": 4,
  "nbformat_minor": 0,
  "metadata": {
    "colab": {
      "name": "IrisPetal_KMeans.ipynb",
      "provenance": []
    },
    "kernelspec": {
      "name": "python3",
      "display_name": "Python 3"
    }
  },
  "cells": [
    {
      "cell_type": "markdown",
      "metadata": {
        "id": "RCrAkSEEpR5r"
      },
      "source": [
        ""
      ]
    },
    {
      "cell_type": "code",
      "metadata": {
        "id": "pWZRYQybpJbM"
      },
      "source": [
        "import pandas as pd\n",
        "import seaborn as sns\n",
        "import numpy as np\n",
        "import matplotlib.pyplot as plt\n",
        "from sklearn.cluster import KMeans\n",
        "from sklearn.preprocessing import StandardScaler"
      ],
      "execution_count": 12,
      "outputs": []
    },
    {
      "cell_type": "markdown",
      "metadata": {
        "id": "GGrUwvxNpTbd"
      },
      "source": [
        ""
      ]
    },
    {
      "cell_type": "code",
      "metadata": {
        "id": "FNoLr9h5pTk5",
        "outputId": "20b1f458-c468-41db-aa2a-d372f49fe032",
        "colab": {
          "base_uri": "https://localhost:8080/",
          "height": 204
        }
      },
      "source": [
        "iris = pd.read_csv('Iris.csv')\n",
        "iris.head()"
      ],
      "execution_count": 13,
      "outputs": [
        {
          "output_type": "execute_result",
          "data": {
            "text/html": [
              "<div>\n",
              "<style scoped>\n",
              "    .dataframe tbody tr th:only-of-type {\n",
              "        vertical-align: middle;\n",
              "    }\n",
              "\n",
              "    .dataframe tbody tr th {\n",
              "        vertical-align: top;\n",
              "    }\n",
              "\n",
              "    .dataframe thead th {\n",
              "        text-align: right;\n",
              "    }\n",
              "</style>\n",
              "<table border=\"1\" class=\"dataframe\">\n",
              "  <thead>\n",
              "    <tr style=\"text-align: right;\">\n",
              "      <th></th>\n",
              "      <th>Id</th>\n",
              "      <th>SepalLengthCm</th>\n",
              "      <th>SepalWidthCm</th>\n",
              "      <th>PetalLengthCm</th>\n",
              "      <th>PetalWidthCm</th>\n",
              "      <th>Species</th>\n",
              "    </tr>\n",
              "  </thead>\n",
              "  <tbody>\n",
              "    <tr>\n",
              "      <th>0</th>\n",
              "      <td>1</td>\n",
              "      <td>5.1</td>\n",
              "      <td>3.5</td>\n",
              "      <td>1.4</td>\n",
              "      <td>0.2</td>\n",
              "      <td>Iris-setosa</td>\n",
              "    </tr>\n",
              "    <tr>\n",
              "      <th>1</th>\n",
              "      <td>2</td>\n",
              "      <td>4.9</td>\n",
              "      <td>3.0</td>\n",
              "      <td>1.4</td>\n",
              "      <td>0.2</td>\n",
              "      <td>Iris-setosa</td>\n",
              "    </tr>\n",
              "    <tr>\n",
              "      <th>2</th>\n",
              "      <td>3</td>\n",
              "      <td>4.7</td>\n",
              "      <td>3.2</td>\n",
              "      <td>1.3</td>\n",
              "      <td>0.2</td>\n",
              "      <td>Iris-setosa</td>\n",
              "    </tr>\n",
              "    <tr>\n",
              "      <th>3</th>\n",
              "      <td>4</td>\n",
              "      <td>4.6</td>\n",
              "      <td>3.1</td>\n",
              "      <td>1.5</td>\n",
              "      <td>0.2</td>\n",
              "      <td>Iris-setosa</td>\n",
              "    </tr>\n",
              "    <tr>\n",
              "      <th>4</th>\n",
              "      <td>5</td>\n",
              "      <td>5.0</td>\n",
              "      <td>3.6</td>\n",
              "      <td>1.4</td>\n",
              "      <td>0.2</td>\n",
              "      <td>Iris-setosa</td>\n",
              "    </tr>\n",
              "  </tbody>\n",
              "</table>\n",
              "</div>"
            ],
            "text/plain": [
              "   Id  SepalLengthCm  SepalWidthCm  PetalLengthCm  PetalWidthCm      Species\n",
              "0   1            5.1           3.5            1.4           0.2  Iris-setosa\n",
              "1   2            4.9           3.0            1.4           0.2  Iris-setosa\n",
              "2   3            4.7           3.2            1.3           0.2  Iris-setosa\n",
              "3   4            4.6           3.1            1.5           0.2  Iris-setosa\n",
              "4   5            5.0           3.6            1.4           0.2  Iris-setosa"
            ]
          },
          "metadata": {
            "tags": []
          },
          "execution_count": 13
        }
      ]
    },
    {
      "cell_type": "markdown",
      "metadata": {
        "id": "fojR6qUEpTr_"
      },
      "source": [
        ""
      ]
    },
    {
      "cell_type": "code",
      "metadata": {
        "id": "5vSGVujNpT07",
        "outputId": "013e817c-d017-417d-e59a-76eec8512e6b",
        "colab": {
          "base_uri": "https://localhost:8080/",
          "height": 204
        }
      },
      "source": [
        "iris = iris.drop(['Species', 'SepalLengthCm', 'SepalWidthCm'], axis = 1)\n",
        "iris.head()"
      ],
      "execution_count": 14,
      "outputs": [
        {
          "output_type": "execute_result",
          "data": {
            "text/html": [
              "<div>\n",
              "<style scoped>\n",
              "    .dataframe tbody tr th:only-of-type {\n",
              "        vertical-align: middle;\n",
              "    }\n",
              "\n",
              "    .dataframe tbody tr th {\n",
              "        vertical-align: top;\n",
              "    }\n",
              "\n",
              "    .dataframe thead th {\n",
              "        text-align: right;\n",
              "    }\n",
              "</style>\n",
              "<table border=\"1\" class=\"dataframe\">\n",
              "  <thead>\n",
              "    <tr style=\"text-align: right;\">\n",
              "      <th></th>\n",
              "      <th>Id</th>\n",
              "      <th>PetalLengthCm</th>\n",
              "      <th>PetalWidthCm</th>\n",
              "    </tr>\n",
              "  </thead>\n",
              "  <tbody>\n",
              "    <tr>\n",
              "      <th>0</th>\n",
              "      <td>1</td>\n",
              "      <td>1.4</td>\n",
              "      <td>0.2</td>\n",
              "    </tr>\n",
              "    <tr>\n",
              "      <th>1</th>\n",
              "      <td>2</td>\n",
              "      <td>1.4</td>\n",
              "      <td>0.2</td>\n",
              "    </tr>\n",
              "    <tr>\n",
              "      <th>2</th>\n",
              "      <td>3</td>\n",
              "      <td>1.3</td>\n",
              "      <td>0.2</td>\n",
              "    </tr>\n",
              "    <tr>\n",
              "      <th>3</th>\n",
              "      <td>4</td>\n",
              "      <td>1.5</td>\n",
              "      <td>0.2</td>\n",
              "    </tr>\n",
              "    <tr>\n",
              "      <th>4</th>\n",
              "      <td>5</td>\n",
              "      <td>1.4</td>\n",
              "      <td>0.2</td>\n",
              "    </tr>\n",
              "  </tbody>\n",
              "</table>\n",
              "</div>"
            ],
            "text/plain": [
              "   Id  PetalLengthCm  PetalWidthCm\n",
              "0   1            1.4           0.2\n",
              "1   2            1.4           0.2\n",
              "2   3            1.3           0.2\n",
              "3   4            1.5           0.2\n",
              "4   5            1.4           0.2"
            ]
          },
          "metadata": {
            "tags": []
          },
          "execution_count": 14
        }
      ]
    },
    {
      "cell_type": "markdown",
      "metadata": {
        "id": "iZKdWbV2pT7w"
      },
      "source": [
        ""
      ]
    },
    {
      "cell_type": "code",
      "metadata": {
        "id": "fx96vpBOpUUt",
        "outputId": "d36e3555-4f58-4b18-d802-52116871e7a8",
        "colab": {
          "base_uri": "https://localhost:8080/",
          "height": 204
        }
      },
      "source": [
        "iris_x = iris.iloc[:, 1:3]\n",
        "iris_x.head()"
      ],
      "execution_count": 15,
      "outputs": [
        {
          "output_type": "execute_result",
          "data": {
            "text/html": [
              "<div>\n",
              "<style scoped>\n",
              "    .dataframe tbody tr th:only-of-type {\n",
              "        vertical-align: middle;\n",
              "    }\n",
              "\n",
              "    .dataframe tbody tr th {\n",
              "        vertical-align: top;\n",
              "    }\n",
              "\n",
              "    .dataframe thead th {\n",
              "        text-align: right;\n",
              "    }\n",
              "</style>\n",
              "<table border=\"1\" class=\"dataframe\">\n",
              "  <thead>\n",
              "    <tr style=\"text-align: right;\">\n",
              "      <th></th>\n",
              "      <th>PetalLengthCm</th>\n",
              "      <th>PetalWidthCm</th>\n",
              "    </tr>\n",
              "  </thead>\n",
              "  <tbody>\n",
              "    <tr>\n",
              "      <th>0</th>\n",
              "      <td>1.4</td>\n",
              "      <td>0.2</td>\n",
              "    </tr>\n",
              "    <tr>\n",
              "      <th>1</th>\n",
              "      <td>1.4</td>\n",
              "      <td>0.2</td>\n",
              "    </tr>\n",
              "    <tr>\n",
              "      <th>2</th>\n",
              "      <td>1.3</td>\n",
              "      <td>0.2</td>\n",
              "    </tr>\n",
              "    <tr>\n",
              "      <th>3</th>\n",
              "      <td>1.5</td>\n",
              "      <td>0.2</td>\n",
              "    </tr>\n",
              "    <tr>\n",
              "      <th>4</th>\n",
              "      <td>1.4</td>\n",
              "      <td>0.2</td>\n",
              "    </tr>\n",
              "  </tbody>\n",
              "</table>\n",
              "</div>"
            ],
            "text/plain": [
              "   PetalLengthCm  PetalWidthCm\n",
              "0            1.4           0.2\n",
              "1            1.4           0.2\n",
              "2            1.3           0.2\n",
              "3            1.5           0.2\n",
              "4            1.4           0.2"
            ]
          },
          "metadata": {
            "tags": []
          },
          "execution_count": 15
        }
      ]
    },
    {
      "cell_type": "markdown",
      "metadata": {
        "id": "fjqCSEMzpUbV"
      },
      "source": [
        ""
      ]
    },
    {
      "cell_type": "code",
      "metadata": {
        "id": "kZ9gXaHJpUiG",
        "outputId": "437ef7d7-5de8-45a1-ac60-e1acca67ddf3",
        "colab": {
          "base_uri": "https://localhost:8080/",
          "height": 296
        }
      },
      "source": [
        "sns.scatterplot(x=\"PetalLengthCm\", y=\"PetalWidthCm\", data=iris, s=100, color=\"blue\", alpha = 0.5)"
      ],
      "execution_count": 16,
      "outputs": [
        {
          "output_type": "execute_result",
          "data": {
            "text/plain": [
              "<matplotlib.axes._subplots.AxesSubplot at 0x7f525baa6080>"
            ]
          },
          "metadata": {
            "tags": []
          },
          "execution_count": 16
        },
        {
          "output_type": "display_data",
          "data": {
            "image/png": "[encoded data removed]",
            "text/plain": [
              "<Figure size 432x288 with 1 Axes>"
            ]
          },
          "metadata": {
            "tags": [],
            "needs_background": "light"
          }
        }
      ]
    },
    {
      "cell_type": "markdown",
      "metadata": {
        "id": "WzKO6J2NqFgO"
      },
      "source": [
        ""
      ]
    },
    {
      "cell_type": "code",
      "metadata": {
        "id": "LKToI1lLpTz2",
        "outputId": "ece6139b-9091-4ffc-eaeb-352d8bcdf634",
        "colab": {
          "base_uri": "https://localhost:8080/",
          "height": 1000
        }
      },
      "source": [
        "x_array =  np.array(iris_x)\n",
        "print(x_array)"
      ],
      "execution_count": 17,
      "outputs": [
        {
          "output_type": "stream",
          "text": [
            "[[1.4 0.2]\n",
            " [1.4 0.2]\n",
            " [1.3 0.2]\n",
            " [1.5 0.2]\n",
            " [1.4 0.2]\n",
            " [1.7 0.4]\n",
            " [1.4 0.3]\n",
            " [1.5 0.2]\n",
            " [1.4 0.2]\n",
            " [1.5 0.1]\n",
            " [1.5 0.2]\n",
            " [1.6 0.2]\n",
            " [1.4 0.1]\n",
            " [1.1 0.1]\n",
            " [1.2 0.2]\n",
            " [1.5 0.4]\n",
            " [1.3 0.4]\n",
            " [1.4 0.3]\n",
            " [1.7 0.3]\n",
            " [1.5 0.3]\n",
            " [1.7 0.2]\n",
            " [1.5 0.4]\n",
            " [1.  0.2]\n",
            " [1.7 0.5]\n",
            " [1.9 0.2]\n",
            " [1.6 0.2]\n",
            " [1.6 0.4]\n",
            " [1.5 0.2]\n",
            " [1.4 0.2]\n",
            " [1.6 0.2]\n",
            " [1.6 0.2]\n",
            " [1.5 0.4]\n",
            " [1.5 0.1]\n",
            " [1.4 0.2]\n",
            " [1.5 0.1]\n",
            " [1.2 0.2]\n",
            " [1.3 0.2]\n",
            " [1.5 0.1]\n",
            " [1.3 0.2]\n",
            " [1.5 0.2]\n",
            " [1.3 0.3]\n",
            " [1.3 0.3]\n",
            " [1.3 0.2]\n",
            " [1.6 0.6]\n",
            " [1.9 0.4]\n",
            " [1.4 0.3]\n",
            " [1.6 0.2]\n",
            " [1.4 0.2]\n",
            " [1.5 0.2]\n",
            " [1.4 0.2]\n",
            " [4.7 1.4]\n",
            " [4.5 1.5]\n",
            " [4.9 1.5]\n",
            " [4.  1.3]\n",
            " [4.6 1.5]\n",
            " [4.5 1.3]\n",
            " [4.7 1.6]\n",
            " [3.3 1. ]\n",
            " [4.6 1.3]\n",
            " [3.9 1.4]\n",
            " [3.5 1. ]\n",
            " [4.2 1.5]\n",
            " [4.  1. ]\n",
            " [4.7 1.4]\n",
            " [3.6 1.3]\n",
            " [4.4 1.4]\n",
            " [4.5 1.5]\n",
            " [4.1 1. ]\n",
            " [4.5 1.5]\n",
            " [3.9 1.1]\n",
            " [4.8 1.8]\n",
            " [4.  1.3]\n",
            " [4.9 1.5]\n",
            " [4.7 1.2]\n",
            " [4.3 1.3]\n",
            " [4.4 1.4]\n",
            " [4.8 1.4]\n",
            " [5.  1.7]\n",
            " [4.5 1.5]\n",
            " [3.5 1. ]\n",
            " [3.8 1.1]\n",
            " [3.7 1. ]\n",
            " [3.9 1.2]\n",
            " [5.1 1.6]\n",
            " [4.5 1.5]\n",
            " [4.5 1.6]\n",
            " [4.7 1.5]\n",
            " [4.4 1.3]\n",
            " [4.1 1.3]\n",
            " [4.  1.3]\n",
            " [4.4 1.2]\n",
            " [4.6 1.4]\n",
            " [4.  1.2]\n",
            " [3.3 1. ]\n",
            " [4.2 1.3]\n",
            " [4.2 1.2]\n",
            " [4.2 1.3]\n",
            " [4.3 1.3]\n",
            " [3.  1.1]\n",
            " [4.1 1.3]\n",
            " [6.  2.5]\n",
            " [5.1 1.9]\n",
            " [5.9 2.1]\n",
            " [5.6 1.8]\n",
            " [5.8 2.2]\n",
            " [6.6 2.1]\n",
            " [4.5 1.7]\n",
            " [6.3 1.8]\n",
            " [5.8 1.8]\n",
            " [6.1 2.5]\n",
            " [5.1 2. ]\n",
            " [5.3 1.9]\n",
            " [5.5 2.1]\n",
            " [5.  2. ]\n",
            " [5.1 2.4]\n",
            " [5.3 2.3]\n",
            " [5.5 1.8]\n",
            " [6.7 2.2]\n",
            " [6.9 2.3]\n",
            " [5.  1.5]\n",
            " [5.7 2.3]\n",
            " [4.9 2. ]\n",
            " [6.7 2. ]\n",
            " [4.9 1.8]\n",
            " [5.7 2.1]\n",
            " [6.  1.8]\n",
            " [4.8 1.8]\n",
            " [4.9 1.8]\n",
            " [5.6 2.1]\n",
            " [5.8 1.6]\n",
            " [6.1 1.9]\n",
            " [6.4 2. ]\n",
            " [5.6 2.2]\n",
            " [5.1 1.5]\n",
            " [5.6 1.4]\n",
            " [6.1 2.3]\n",
            " [5.6 2.4]\n",
            " [5.5 1.8]\n",
            " [4.8 1.8]\n",
            " [5.4 2.1]\n",
            " [5.6 2.4]\n",
            " [5.1 2.3]\n",
            " [5.1 1.9]\n",
            " [5.9 2.3]\n",
            " [5.7 2.5]\n",
            " [5.2 2.3]\n",
            " [5.  1.9]\n",
            " [5.2 2. ]\n",
            " [5.4 2.3]\n",
            " [5.1 1.8]]\n"
          ],
          "name": "stdout"
        }
      ]
    },
    {
      "cell_type": "markdown",
      "metadata": {
        "id": "aDpgHEQwqGF4"
      },
      "source": [
        ""
      ]
    },
    {
      "cell_type": "code",
      "metadata": {
        "id": "6NhMNRlOqHQp",
        "outputId": "8b37c50c-7f22-41af-d64a-bd3506aa955d",
        "colab": {
          "base_uri": "https://localhost:8080/",
          "height": 1000
        }
      },
      "source": [
        "scaler = StandardScaler()\n",
        "x_scaled = scaler.fit_transform(x_array)\n",
        "x_scaled"
      ],
      "execution_count": 18,
      "outputs": [
        {
          "output_type": "execute_result",
          "data": {
            "text/plain": [
              "array([[-1.34127240e+00, -1.31297673e+00],\n",
              "       [-1.34127240e+00, -1.31297673e+00],\n",
              "       [-1.39813811e+00, -1.31297673e+00],\n",
              "       [-1.28440670e+00, -1.31297673e+00],\n",
              "       [-1.34127240e+00, -1.31297673e+00],\n",
              "       [-1.17067529e+00, -1.05003079e+00],\n",
              "       [-1.34127240e+00, -1.18150376e+00],\n",
              "       [-1.28440670e+00, -1.31297673e+00],\n",
              "       [-1.34127240e+00, -1.31297673e+00],\n",
              "       [-1.28440670e+00, -1.44444970e+00],\n",
              "       [-1.28440670e+00, -1.31297673e+00],\n",
              "       [-1.22754100e+00, -1.31297673e+00],\n",
              "       [-1.34127240e+00, -1.44444970e+00],\n",
              "       [-1.51186952e+00, -1.44444970e+00],\n",
              "       [-1.45500381e+00, -1.31297673e+00],\n",
              "       [-1.28440670e+00, -1.05003079e+00],\n",
              "       [-1.39813811e+00, -1.05003079e+00],\n",
              "       [-1.34127240e+00, -1.18150376e+00],\n",
              "       [-1.17067529e+00, -1.18150376e+00],\n",
              "       [-1.28440670e+00, -1.18150376e+00],\n",
              "       [-1.17067529e+00, -1.31297673e+00],\n",
              "       [-1.28440670e+00, -1.05003079e+00],\n",
              "       [-1.56873522e+00, -1.31297673e+00],\n",
              "       [-1.17067529e+00, -9.18557817e-01],\n",
              "       [-1.05694388e+00, -1.31297673e+00],\n",
              "       [-1.22754100e+00, -1.31297673e+00],\n",
              "       [-1.22754100e+00, -1.05003079e+00],\n",
              "       [-1.28440670e+00, -1.31297673e+00],\n",
              "       [-1.34127240e+00, -1.31297673e+00],\n",
              "       [-1.22754100e+00, -1.31297673e+00],\n",
              "       [-1.22754100e+00, -1.31297673e+00],\n",
              "       [-1.28440670e+00, -1.05003079e+00],\n",
              "       [-1.28440670e+00, -1.44444970e+00],\n",
              "       [-1.34127240e+00, -1.31297673e+00],\n",
              "       [-1.28440670e+00, -1.44444970e+00],\n",
              "       [-1.45500381e+00, -1.31297673e+00],\n",
              "       [-1.39813811e+00, -1.31297673e+00],\n",
              "       [-1.28440670e+00, -1.44444970e+00],\n",
              "       [-1.39813811e+00, -1.31297673e+00],\n",
              "       [-1.28440670e+00, -1.31297673e+00],\n",
              "       [-1.39813811e+00, -1.18150376e+00],\n",
              "       [-1.39813811e+00, -1.18150376e+00],\n",
              "       [-1.39813811e+00, -1.31297673e+00],\n",
              "       [-1.22754100e+00, -7.87084847e-01],\n",
              "       [-1.05694388e+00, -1.05003079e+00],\n",
              "       [-1.34127240e+00, -1.18150376e+00],\n",
              "       [-1.22754100e+00, -1.31297673e+00],\n",
              "       [-1.34127240e+00, -1.31297673e+00],\n",
              "       [-1.28440670e+00, -1.31297673e+00],\n",
              "       [-1.34127240e+00, -1.31297673e+00],\n",
              "       [ 5.35295827e-01,  2.64698913e-01],\n",
              "       [ 4.21564419e-01,  3.96171883e-01],\n",
              "       [ 6.49027235e-01,  3.96171883e-01],\n",
              "       [ 1.37235899e-01,  1.33225943e-01],\n",
              "       [ 4.78430123e-01,  3.96171883e-01],\n",
              "       [ 4.21564419e-01,  1.33225943e-01],\n",
              "       [ 5.35295827e-01,  5.27644853e-01],\n",
              "       [-2.60824029e-01, -2.61192967e-01],\n",
              "       [ 4.78430123e-01,  1.33225943e-01],\n",
              "       [ 8.03701950e-02,  2.64698913e-01],\n",
              "       [-1.47092621e-01, -2.61192967e-01],\n",
              "       [ 2.50967307e-01,  3.96171883e-01],\n",
              "       [ 1.37235899e-01, -2.61192967e-01],\n",
              "       [ 5.35295827e-01,  2.64698913e-01],\n",
              "       [-9.02269170e-02,  1.33225943e-01],\n",
              "       [ 3.64698715e-01,  2.64698913e-01],\n",
              "       [ 4.21564419e-01,  3.96171883e-01],\n",
              "       [ 1.94101603e-01, -2.61192967e-01],\n",
              "       [ 4.21564419e-01,  3.96171883e-01],\n",
              "       [ 8.03701950e-02, -1.29719997e-01],\n",
              "       [ 5.92161531e-01,  7.90590793e-01],\n",
              "       [ 1.37235899e-01,  1.33225943e-01],\n",
              "       [ 6.49027235e-01,  3.96171883e-01],\n",
              "       [ 5.35295827e-01,  1.75297293e-03],\n",
              "       [ 3.07833011e-01,  1.33225943e-01],\n",
              "       [ 3.64698715e-01,  2.64698913e-01],\n",
              "       [ 5.92161531e-01,  2.64698913e-01],\n",
              "       [ 7.05892939e-01,  6.59117823e-01],\n",
              "       [ 4.21564419e-01,  3.96171883e-01],\n",
              "       [-1.47092621e-01, -2.61192967e-01],\n",
              "       [ 2.35044910e-02, -1.29719997e-01],\n",
              "       [-3.33612130e-02, -2.61192967e-01],\n",
              "       [ 8.03701950e-02,  1.75297293e-03],\n",
              "       [ 7.62758643e-01,  5.27644853e-01],\n",
              "       [ 4.21564419e-01,  3.96171883e-01],\n",
              "       [ 4.21564419e-01,  5.27644853e-01],\n",
              "       [ 5.35295827e-01,  3.96171883e-01],\n",
              "       [ 3.64698715e-01,  1.33225943e-01],\n",
              "       [ 1.94101603e-01,  1.33225943e-01],\n",
              "       [ 1.37235899e-01,  1.33225943e-01],\n",
              "       [ 3.64698715e-01,  1.75297293e-03],\n",
              "       [ 4.78430123e-01,  2.64698913e-01],\n",
              "       [ 1.37235899e-01,  1.75297293e-03],\n",
              "       [-2.60824029e-01, -2.61192967e-01],\n",
              "       [ 2.50967307e-01,  1.33225943e-01],\n",
              "       [ 2.50967307e-01,  1.75297293e-03],\n",
              "       [ 2.50967307e-01,  1.33225943e-01],\n",
              "       [ 3.07833011e-01,  1.33225943e-01],\n",
              "       [-4.31421141e-01, -1.29719997e-01],\n",
              "       [ 1.94101603e-01,  1.33225943e-01],\n",
              "       [ 1.27454998e+00,  1.71090158e+00],\n",
              "       [ 7.62758643e-01,  9.22063763e-01],\n",
              "       [ 1.21768427e+00,  1.18500970e+00],\n",
              "       [ 1.04708716e+00,  7.90590793e-01],\n",
              "       [ 1.16081857e+00,  1.31648267e+00],\n",
              "       [ 1.61574420e+00,  1.18500970e+00],\n",
              "       [ 4.21564419e-01,  6.59117823e-01],\n",
              "       [ 1.44514709e+00,  7.90590793e-01],\n",
              "       [ 1.16081857e+00,  7.90590793e-01],\n",
              "       [ 1.33141568e+00,  1.71090158e+00],\n",
              "       [ 7.62758643e-01,  1.05353673e+00],\n",
              "       [ 8.76490051e-01,  9.22063763e-01],\n",
              "       [ 9.90221459e-01,  1.18500970e+00],\n",
              "       [ 7.05892939e-01,  1.05353673e+00],\n",
              "       [ 7.62758643e-01,  1.57942861e+00],\n",
              "       [ 8.76490051e-01,  1.44795564e+00],\n",
              "       [ 9.90221459e-01,  7.90590793e-01],\n",
              "       [ 1.67260991e+00,  1.31648267e+00],\n",
              "       [ 1.78634131e+00,  1.44795564e+00],\n",
              "       [ 7.05892939e-01,  3.96171883e-01],\n",
              "       [ 1.10395287e+00,  1.44795564e+00],\n",
              "       [ 6.49027235e-01,  1.05353673e+00],\n",
              "       [ 1.67260991e+00,  1.05353673e+00],\n",
              "       [ 6.49027235e-01,  7.90590793e-01],\n",
              "       [ 1.10395287e+00,  1.18500970e+00],\n",
              "       [ 1.27454998e+00,  7.90590793e-01],\n",
              "       [ 5.92161531e-01,  7.90590793e-01],\n",
              "       [ 6.49027235e-01,  7.90590793e-01],\n",
              "       [ 1.04708716e+00,  1.18500970e+00],\n",
              "       [ 1.16081857e+00,  5.27644853e-01],\n",
              "       [ 1.33141568e+00,  9.22063763e-01],\n",
              "       [ 1.50201279e+00,  1.05353673e+00],\n",
              "       [ 1.04708716e+00,  1.31648267e+00],\n",
              "       [ 7.62758643e-01,  3.96171883e-01],\n",
              "       [ 1.04708716e+00,  2.64698913e-01],\n",
              "       [ 1.33141568e+00,  1.44795564e+00],\n",
              "       [ 1.04708716e+00,  1.57942861e+00],\n",
              "       [ 9.90221459e-01,  7.90590793e-01],\n",
              "       [ 5.92161531e-01,  7.90590793e-01],\n",
              "       [ 9.33355755e-01,  1.18500970e+00],\n",
              "       [ 1.04708716e+00,  1.57942861e+00],\n",
              "       [ 7.62758643e-01,  1.44795564e+00],\n",
              "       [ 7.62758643e-01,  9.22063763e-01],\n",
              "       [ 1.21768427e+00,  1.44795564e+00],\n",
              "       [ 1.10395287e+00,  1.71090158e+00],\n",
              "       [ 8.19624347e-01,  1.44795564e+00],\n",
              "       [ 7.05892939e-01,  9.22063763e-01],\n",
              "       [ 8.19624347e-01,  1.05353673e+00],\n",
              "       [ 9.33355755e-01,  1.44795564e+00],\n",
              "       [ 7.62758643e-01,  7.90590793e-01]])"
            ]
          },
          "metadata": {
            "tags": []
          },
          "execution_count": 18
        }
      ]
    },
    {
      "cell_type": "markdown",
      "metadata": {
        "id": "cTRaA_xNqWPr"
      },
      "source": [
        ""
      ]
    },
    {
      "cell_type": "code",
      "metadata": {
        "id": "zKAE0_VFqWmd",
        "outputId": "06cb1803-2c09-40df-ab06-9ff851e7de4f",
        "colab": {
          "base_uri": "https://localhost:8080/",
          "height": 85
        }
      },
      "source": [
        "kmeans = KMeans(init = \"k-means++\", n_clusters = 4, random_state=100)\n",
        "kmeans.fit(x_scaled)\n",
        "center = kmeans.cluster_centers_\n",
        "center"
      ],
      "execution_count": 19,
      "outputs": [
        {
          "output_type": "execute_result",
          "data": {
            "text/plain": [
              "array([[-1.30487835, -1.25512862],\n",
              "       [ 0.76459302,  0.71849271],\n",
              "       [ 0.2238884 ,  0.09879255],\n",
              "       [ 1.19030449,  1.34569889]])"
            ]
          },
          "metadata": {
            "tags": []
          },
          "execution_count": 19
        }
      ]
    },
    {
      "cell_type": "markdown",
      "metadata": {
        "id": "bfO_QOrrqXBI"
      },
      "source": [
        ""
      ]
    },
    {
      "cell_type": "code",
      "metadata": {
        "id": "IReDtUjEqXVF",
        "outputId": "573b5eab-acbe-4170-ccd4-f4d5a830add9",
        "colab": {
          "base_uri": "https://localhost:8080/",
          "height": 204
        }
      },
      "source": [
        "kmeans.labels_\n",
        "iris[\"Cluster\"] = kmeans.labels_\n",
        "iris.head()"
      ],
      "execution_count": 20,
      "outputs": [
        {
          "output_type": "execute_result",
          "data": {
            "text/html": [
              "<div>\n",
              "<style scoped>\n",
              "    .dataframe tbody tr th:only-of-type {\n",
              "        vertical-align: middle;\n",
              "    }\n",
              "\n",
              "    .dataframe tbody tr th {\n",
              "        vertical-align: top;\n",
              "    }\n",
              "\n",
              "    .dataframe thead th {\n",
              "        text-align: right;\n",
              "    }\n",
              "</style>\n",
              "<table border=\"1\" class=\"dataframe\">\n",
              "  <thead>\n",
              "    <tr style=\"text-align: right;\">\n",
              "      <th></th>\n",
              "      <th>Id</th>\n",
              "      <th>PetalLengthCm</th>\n",
              "      <th>PetalWidthCm</th>\n",
              "      <th>Cluster</th>\n",
              "    </tr>\n",
              "  </thead>\n",
              "  <tbody>\n",
              "    <tr>\n",
              "      <th>0</th>\n",
              "      <td>1</td>\n",
              "      <td>1.4</td>\n",
              "      <td>0.2</td>\n",
              "      <td>0</td>\n",
              "    </tr>\n",
              "    <tr>\n",
              "      <th>1</th>\n",
              "      <td>2</td>\n",
              "      <td>1.4</td>\n",
              "      <td>0.2</td>\n",
              "      <td>0</td>\n",
              "    </tr>\n",
              "    <tr>\n",
              "      <th>2</th>\n",
              "      <td>3</td>\n",
              "      <td>1.3</td>\n",
              "      <td>0.2</td>\n",
              "      <td>0</td>\n",
              "    </tr>\n",
              "    <tr>\n",
              "      <th>3</th>\n",
              "      <td>4</td>\n",
              "      <td>1.5</td>\n",
              "      <td>0.2</td>\n",
              "      <td>0</td>\n",
              "    </tr>\n",
              "    <tr>\n",
              "      <th>4</th>\n",
              "      <td>5</td>\n",
              "      <td>1.4</td>\n",
              "      <td>0.2</td>\n",
              "      <td>0</td>\n",
              "    </tr>\n",
              "  </tbody>\n",
              "</table>\n",
              "</div>"
            ],
            "text/plain": [
              "   Id  PetalLengthCm  PetalWidthCm  Cluster\n",
              "0   1            1.4           0.2        0\n",
              "1   2            1.4           0.2        0\n",
              "2   3            1.3           0.2        0\n",
              "3   4            1.5           0.2        0\n",
              "4   5            1.4           0.2        0"
            ]
          },
          "metadata": {
            "tags": []
          },
          "execution_count": 20
        }
      ]
    },
    {
      "cell_type": "markdown",
      "metadata": {
        "id": "b6RV4CIrqXtw"
      },
      "source": [
        ""
      ]
    },
    {
      "cell_type": "code",
      "metadata": {
        "id": "R4MRlcRuqYCl",
        "outputId": "9a7073e4-1218-423f-9032-271cc54dbf30",
        "colab": {
          "base_uri": "https://localhost:8080/",
          "height": 295
        }
      },
      "source": [
        "fig, ax = plt.subplots()\n",
        "sct = ax.scatter(x_scaled[:,1], x_scaled[:,0], s = 100,\n",
        "c = iris.Cluster, marker = \"o\", alpha = 0.5)\n",
        "center\n",
        "ax.scatter(center[:,1], center[:,0], c='black', s=200, alpha=0.5);plt.title(\"Hasil Clustering K-Means\")\n",
        "plt.xlabel(\"Scaled Petal Length\")\n",
        "plt.ylabel(\"Scaled Petal Width\")\n",
        "plt.show()"
      ],
      "execution_count": 21,
      "outputs": [
        {
          "output_type": "display_data",
          "data": {
            "image/png": "[encoded data removed]",
            "text/plain": [
              "<Figure size 432x288 with 1 Axes>"
            ]
          },
          "metadata": {
            "tags": [],
            "needs_background": "light"
          }
        }
      ]
    }
  ]
}