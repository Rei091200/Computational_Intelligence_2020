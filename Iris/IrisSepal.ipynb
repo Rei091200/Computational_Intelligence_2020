{
  "nbformat": 4,
  "nbformat_minor": 0,
  "metadata": {
    "colab": {
      "name": "IrisSepal.ipynb",
      "provenance": [],
      "collapsed_sections": [],
      "toc_visible": true
    },
    "kernelspec": {
      "name": "python3",
      "display_name": "Python 3"
    }
  },
  "cells": [
    {
      "cell_type": "markdown",
      "metadata": {
        "id": "ks6HLKaIYnY0"
      },
      "source": [
        "#**SEPAL OF IRIS** \n"
      ]
    },
    {
      "cell_type": "markdown",
      "metadata": {
        "id": "APVY6McW1naa"
      },
      "source": [
        "##K-Means Clustering\n",
        "---"
      ]
    },
    {
      "cell_type": "markdown",
      "metadata": {
        "id": "noT0nM6gVjds"
      },
      "source": [
        "###Import Library\n",
        "---\n",
        "Import terlebih dahulu library yang dibutuhkan"
      ]
    },
    {
      "cell_type": "code",
      "metadata": {
        "id": "E-Oq1dPVTJOg"
      },
      "source": [
        "import pandas as pd\n",
        "import seaborn as sns\n",
        "import numpy as np\n",
        "import plotly as py\n",
        "import matplotlib.pyplot as plt\n",
        "from sklearn import metrics\n",
        "from sklearn.cluster import KMeans\n",
        "from sklearn.preprocessing import StandardScaler\n",
        "from sklearn.metrics import silhouette_score"
      ],
      "execution_count": null,
      "outputs": []
    },
    {
      "cell_type": "markdown",
      "metadata": {
        "id": "jNZsgHjU172n"
      },
      "source": [
        "###Read CSV Files\n",
        "---\n",
        "Membaca file .csv yang akan di**cluster**kan."
      ]
    },
    {
      "cell_type": "code",
      "metadata": {
        "id": "HLy3doaDXHiw",
        "outputId": "18f3ecd2-0201-43dc-c453-af534197be03",
        "colab": {
          "base_uri": "https://localhost:8080/",
          "height": 204
        }
      },
      "source": [
        "iris = pd.read_csv('Iris.csv')\n",
        "iris.head()"
      ],
      "execution_count": null,
      "outputs": [
        {
          "output_type": "execute_result",
          "data": {
            "text/html": [
              "<div>\n",
              "<style scoped>\n",
              "    .dataframe tbody tr th:only-of-type {\n",
              "        vertical-align: middle;\n",
              "    }\n",
              "\n",
              "    .dataframe tbody tr th {\n",
              "        vertical-align: top;\n",
              "    }\n",
              "\n",
              "    .dataframe thead th {\n",
              "        text-align: right;\n",
              "    }\n",
              "</style>\n",
              "<table border=\"1\" class=\"dataframe\">\n",
              "  <thead>\n",
              "    <tr style=\"text-align: right;\">\n",
              "      <th></th>\n",
              "      <th>Id</th>\n",
              "      <th>SepalLengthCm</th>\n",
              "      <th>SepalWidthCm</th>\n",
              "      <th>PetalLengthCm</th>\n",
              "      <th>PetalWidthCm</th>\n",
              "      <th>Species</th>\n",
              "    </tr>\n",
              "  </thead>\n",
              "  <tbody>\n",
              "    <tr>\n",
              "      <th>0</th>\n",
              "      <td>1</td>\n",
              "      <td>5.1</td>\n",
              "      <td>3.5</td>\n",
              "      <td>1.4</td>\n",
              "      <td>0.2</td>\n",
              "      <td>Iris-setosa</td>\n",
              "    </tr>\n",
              "    <tr>\n",
              "      <th>1</th>\n",
              "      <td>2</td>\n",
              "      <td>4.9</td>\n",
              "      <td>3.0</td>\n",
              "      <td>1.4</td>\n",
              "      <td>0.2</td>\n",
              "      <td>Iris-setosa</td>\n",
              "    </tr>\n",
              "    <tr>\n",
              "      <th>2</th>\n",
              "      <td>3</td>\n",
              "      <td>4.7</td>\n",
              "      <td>3.2</td>\n",
              "      <td>1.3</td>\n",
              "      <td>0.2</td>\n",
              "      <td>Iris-setosa</td>\n",
              "    </tr>\n",
              "    <tr>\n",
              "      <th>3</th>\n",
              "      <td>4</td>\n",
              "      <td>4.6</td>\n",
              "      <td>3.1</td>\n",
              "      <td>1.5</td>\n",
              "      <td>0.2</td>\n",
              "      <td>Iris-setosa</td>\n",
              "    </tr>\n",
              "    <tr>\n",
              "      <th>4</th>\n",
              "      <td>5</td>\n",
              "      <td>5.0</td>\n",
              "      <td>3.6</td>\n",
              "      <td>1.4</td>\n",
              "      <td>0.2</td>\n",
              "      <td>Iris-setosa</td>\n",
              "    </tr>\n",
              "  </tbody>\n",
              "</table>\n",
              "</div>"
            ],
            "text/plain": [
              "   Id  SepalLengthCm  SepalWidthCm  PetalLengthCm  PetalWidthCm      Species\n",
              "0   1            5.1           3.5            1.4           0.2  Iris-setosa\n",
              "1   2            4.9           3.0            1.4           0.2  Iris-setosa\n",
              "2   3            4.7           3.2            1.3           0.2  Iris-setosa\n",
              "3   4            4.6           3.1            1.5           0.2  Iris-setosa\n",
              "4   5            5.0           3.6            1.4           0.2  Iris-setosa"
            ]
          },
          "metadata": {
            "tags": []
          },
          "execution_count": 3
        }
      ]
    },
    {
      "cell_type": "markdown",
      "metadata": {
        "id": "SPiiob0E14hJ"
      },
      "source": [
        "###File Shape\n",
        "---\n",
        "Menunjukkan banyak kolom dan baris dari data yang sudah di**upload**"
      ]
    },
    {
      "cell_type": "code",
      "metadata": {
        "id": "U5EUKd-5X4bp",
        "outputId": "3126a7ae-2ff2-4465-8e46-afb54e42e77a",
        "colab": {
          "base_uri": "https://localhost:8080/"
        }
      },
      "source": [
        "iris.shape"
      ],
      "execution_count": null,
      "outputs": [
        {
          "output_type": "execute_result",
          "data": {
            "text/plain": [
              "(150, 6)"
            ]
          },
          "metadata": {
            "tags": []
          },
          "execution_count": 4
        }
      ]
    },
    {
      "cell_type": "markdown",
      "metadata": {
        "id": "42HpmB6j2IYP"
      },
      "source": [
        "###Deskripsi Data\n",
        "---\n",
        "Menunjukkan deskripsi dari data yang digunakan."
      ]
    },
    {
      "cell_type": "code",
      "metadata": {
        "id": "ARv87Ox6aFB-",
        "outputId": "84b1ebdd-9e76-4df3-da63-3785f0b18af7",
        "colab": {
          "base_uri": "https://localhost:8080/",
          "height": 297
        }
      },
      "source": [
        "iris.describe()"
      ],
      "execution_count": null,
      "outputs": [
        {
          "output_type": "execute_result",
          "data": {
            "text/html": [
              "<div>\n",
              "<style scoped>\n",
              "    .dataframe tbody tr th:only-of-type {\n",
              "        vertical-align: middle;\n",
              "    }\n",
              "\n",
              "    .dataframe tbody tr th {\n",
              "        vertical-align: top;\n",
              "    }\n",
              "\n",
              "    .dataframe thead th {\n",
              "        text-align: right;\n",
              "    }\n",
              "</style>\n",
              "<table border=\"1\" class=\"dataframe\">\n",
              "  <thead>\n",
              "    <tr style=\"text-align: right;\">\n",
              "      <th></th>\n",
              "      <th>Id</th>\n",
              "      <th>SepalLengthCm</th>\n",
              "      <th>SepalWidthCm</th>\n",
              "      <th>PetalLengthCm</th>\n",
              "      <th>PetalWidthCm</th>\n",
              "    </tr>\n",
              "  </thead>\n",
              "  <tbody>\n",
              "    <tr>\n",
              "      <th>count</th>\n",
              "      <td>150.000000</td>\n",
              "      <td>150.000000</td>\n",
              "      <td>150.000000</td>\n",
              "      <td>150.000000</td>\n",
              "      <td>150.000000</td>\n",
              "    </tr>\n",
              "    <tr>\n",
              "      <th>mean</th>\n",
              "      <td>75.500000</td>\n",
              "      <td>5.843333</td>\n",
              "      <td>3.054000</td>\n",
              "      <td>3.758667</td>\n",
              "      <td>1.198667</td>\n",
              "    </tr>\n",
              "    <tr>\n",
              "      <th>std</th>\n",
              "      <td>43.445368</td>\n",
              "      <td>0.828066</td>\n",
              "      <td>0.433594</td>\n",
              "      <td>1.764420</td>\n",
              "      <td>0.763161</td>\n",
              "    </tr>\n",
              "    <tr>\n",
              "      <th>min</th>\n",
              "      <td>1.000000</td>\n",
              "      <td>4.300000</td>\n",
              "      <td>2.000000</td>\n",
              "      <td>1.000000</td>\n",
              "      <td>0.100000</td>\n",
              "    </tr>\n",
              "    <tr>\n",
              "      <th>25%</th>\n",
              "      <td>38.250000</td>\n",
              "      <td>5.100000</td>\n",
              "      <td>2.800000</td>\n",
              "      <td>1.600000</td>\n",
              "      <td>0.300000</td>\n",
              "    </tr>\n",
              "    <tr>\n",
              "      <th>50%</th>\n",
              "      <td>75.500000</td>\n",
              "      <td>5.800000</td>\n",
              "      <td>3.000000</td>\n",
              "      <td>4.350000</td>\n",
              "      <td>1.300000</td>\n",
              "    </tr>\n",
              "    <tr>\n",
              "      <th>75%</th>\n",
              "      <td>112.750000</td>\n",
              "      <td>6.400000</td>\n",
              "      <td>3.300000</td>\n",
              "      <td>5.100000</td>\n",
              "      <td>1.800000</td>\n",
              "    </tr>\n",
              "    <tr>\n",
              "      <th>max</th>\n",
              "      <td>150.000000</td>\n",
              "      <td>7.900000</td>\n",
              "      <td>4.400000</td>\n",
              "      <td>6.900000</td>\n",
              "      <td>2.500000</td>\n",
              "    </tr>\n",
              "  </tbody>\n",
              "</table>\n",
              "</div>"
            ],
            "text/plain": [
              "               Id  SepalLengthCm  SepalWidthCm  PetalLengthCm  PetalWidthCm\n",
              "count  150.000000     150.000000    150.000000     150.000000    150.000000\n",
              "mean    75.500000       5.843333      3.054000       3.758667      1.198667\n",
              "std     43.445368       0.828066      0.433594       1.764420      0.763161\n",
              "min      1.000000       4.300000      2.000000       1.000000      0.100000\n",
              "25%     38.250000       5.100000      2.800000       1.600000      0.300000\n",
              "50%     75.500000       5.800000      3.000000       4.350000      1.300000\n",
              "75%    112.750000       6.400000      3.300000       5.100000      1.800000\n",
              "max    150.000000       7.900000      4.400000       6.900000      2.500000"
            ]
          },
          "metadata": {
            "tags": []
          },
          "execution_count": 8
        }
      ]
    },
    {
      "cell_type": "markdown",
      "metadata": {
        "id": "cQAq6IVT2La7"
      },
      "source": [
        "###Data Checking\n",
        "---\n",
        "Mengecek apakah isi dari data terdapat null atau tidak."
      ]
    },
    {
      "cell_type": "code",
      "metadata": {
        "id": "BjJBHz3fkhpN",
        "outputId": "5c920a76-aacc-411c-98d7-8c8a97a5b6c3",
        "colab": {
          "base_uri": "https://localhost:8080/"
        }
      },
      "source": [
        "iris.isnull().sum()"
      ],
      "execution_count": null,
      "outputs": [
        {
          "output_type": "execute_result",
          "data": {
            "text/plain": [
              "Id               0\n",
              "SepalLengthCm    0\n",
              "SepalWidthCm     0\n",
              "PetalLengthCm    0\n",
              "PetalWidthCm     0\n",
              "Species          0\n",
              "dtype: int64"
            ]
          },
          "metadata": {
            "tags": []
          },
          "execution_count": 9
        }
      ]
    },
    {
      "cell_type": "markdown",
      "metadata": {
        "id": "XzeL_b3X2MH_"
      },
      "source": [
        "###Data Scatter Plot\n",
        "---\n",
        "Menyajikan hasil dari scatter plot dari data Iris."
      ]
    },
    {
      "cell_type": "code",
      "metadata": {
        "id": "itSiJEspbMm6",
        "outputId": "d69ed1d1-4276-40cc-fbb2-b2896c8417a4",
        "colab": {
          "base_uri": "https://localhost:8080/",
          "height": 404
        }
      },
      "source": [
        "plt.figure(1 , figsize = (15 , 6))\n",
        "for species in ['Iris-setosa' , 'Iris-versicolor', 'Iris-virginica']:\n",
        "    plt.scatter(x = 'SepalLengthCm' , y = 'SepalWidthCm' , data = iris[iris['Species'] == species] ,\n",
        "                s = 200 , alpha = 0.5 , label = species)\n",
        "plt.xlabel('Sepal Length (cm)'), plt.ylabel('Sepal Width (cm)') \n",
        "plt.title('Sepal Of Iris')\n",
        "plt.legend()\n",
        "plt.show()"
      ],
      "execution_count": null,
      "outputs": [
        {
          "output_type": "display_data",
          "data": {
            "image/png": "[encoded data removed]",
            "text/plain": [
              "<Figure size 1080x432 with 1 Axes>"
            ]
          },
          "metadata": {
            "tags": [],
            "needs_background": "light"
          }
        }
      ]
    },
    {
      "cell_type": "markdown",
      "metadata": {
        "id": "5D1kfvPE2M4B"
      },
      "source": [
        "###Elbow Method\n",
        "---\n",
        "Menyajikan Elbow Method dari data Iris"
      ]
    },
    {
      "cell_type": "code",
      "metadata": {
        "id": "4Z0mf_0aborr"
      },
      "source": [
        "iris_x = iris[['SepalLengthCm' , 'SepalWidthCm']].iloc[: , :].values\n",
        "inertia = []\n",
        "\n",
        "for n in range(1 , 11):\n",
        "    kmeans = (KMeans(n_clusters = n ,init='k-means++', n_init = 10 ,max_iter=300, \n",
        "                        tol=0.0001,  random_state= 200  , algorithm='elkan') )\n",
        "    kmeans.fit(iris_x)\n",
        "    inertia.append(kmeans.inertia_)\n"
      ],
      "execution_count": null,
      "outputs": []
    },
    {
      "cell_type": "code",
      "metadata": {
        "id": "hss1B30IbumS",
        "outputId": "ad5f295b-08e0-477c-cb4c-f9873b49bb95",
        "colab": {
          "base_uri": "https://localhost:8080/",
          "height": 404
        }
      },
      "source": [
        "plt.figure(1 , figsize = (15 ,6))\n",
        "plt.plot(np.arange(1 , 11) , inertia , 'o')\n",
        "plt.plot(np.arange(1 , 11) , inertia , '-' , alpha = 0.5)\n",
        "plt.xlabel('Number of Clusters') , plt.ylabel('Inertia')\n",
        "plt.title('Sepal Of Iris')\n",
        "plt.show()"
      ],
      "execution_count": null,
      "outputs": [
        {
          "output_type": "display_data",
          "data": {
            "image/png": "[encoded data removed]",
            "text/plain": [
              "<Figure size 1080x432 with 1 Axes>"
            ]
          },
          "metadata": {
            "tags": [],
            "needs_background": "light"
          }
        }
      ]
    },
    {
      "cell_type": "markdown",
      "metadata": {
        "id": "VpODmV6u2YQW"
      },
      "source": [
        "###Pengubahan Data menjadi Array Numpy\n",
        "---\n",
        "Data yang ada diubah menjadi Array Numpy untuk mempermudah clustering "
      ]
    },
    {
      "cell_type": "code",
      "metadata": {
        "id": "0RgQfQergWfM",
        "outputId": "30448049-abd9-4e28-b0f8-7a5c5fa5bb67",
        "colab": {
          "base_uri": "https://localhost:8080/"
        }
      },
      "source": [
        "x_array =  np.array(iris_x)\n",
        "print(x_array)"
      ],
      "execution_count": null,
      "outputs": [
        {
          "output_type": "stream",
          "text": [
            "[[5.1 3.5]\n",
            " [4.9 3. ]\n",
            " [4.7 3.2]\n",
            " [4.6 3.1]\n",
            " [5.  3.6]\n",
            " [5.4 3.9]\n",
            " [4.6 3.4]\n",
            " [5.  3.4]\n",
            " [4.4 2.9]\n",
            " [4.9 3.1]\n",
            " [5.4 3.7]\n",
            " [4.8 3.4]\n",
            " [4.8 3. ]\n",
            " [4.3 3. ]\n",
            " [5.8 4. ]\n",
            " [5.7 4.4]\n",
            " [5.4 3.9]\n",
            " [5.1 3.5]\n",
            " [5.7 3.8]\n",
            " [5.1 3.8]\n",
            " [5.4 3.4]\n",
            " [5.1 3.7]\n",
            " [4.6 3.6]\n",
            " [5.1 3.3]\n",
            " [4.8 3.4]\n",
            " [5.  3. ]\n",
            " [5.  3.4]\n",
            " [5.2 3.5]\n",
            " [5.2 3.4]\n",
            " [4.7 3.2]\n",
            " [4.8 3.1]\n",
            " [5.4 3.4]\n",
            " [5.2 4.1]\n",
            " [5.5 4.2]\n",
            " [4.9 3.1]\n",
            " [5.  3.2]\n",
            " [5.5 3.5]\n",
            " [4.9 3.1]\n",
            " [4.4 3. ]\n",
            " [5.1 3.4]\n",
            " [5.  3.5]\n",
            " [4.5 2.3]\n",
            " [4.4 3.2]\n",
            " [5.  3.5]\n",
            " [5.1 3.8]\n",
            " [4.8 3. ]\n",
            " [5.1 3.8]\n",
            " [4.6 3.2]\n",
            " [5.3 3.7]\n",
            " [5.  3.3]\n",
            " [7.  3.2]\n",
            " [6.4 3.2]\n",
            " [6.9 3.1]\n",
            " [5.5 2.3]\n",
            " [6.5 2.8]\n",
            " [5.7 2.8]\n",
            " [6.3 3.3]\n",
            " [4.9 2.4]\n",
            " [6.6 2.9]\n",
            " [5.2 2.7]\n",
            " [5.  2. ]\n",
            " [5.9 3. ]\n",
            " [6.  2.2]\n",
            " [6.1 2.9]\n",
            " [5.6 2.9]\n",
            " [6.7 3.1]\n",
            " [5.6 3. ]\n",
            " [5.8 2.7]\n",
            " [6.2 2.2]\n",
            " [5.6 2.5]\n",
            " [5.9 3.2]\n",
            " [6.1 2.8]\n",
            " [6.3 2.5]\n",
            " [6.1 2.8]\n",
            " [6.4 2.9]\n",
            " [6.6 3. ]\n",
            " [6.8 2.8]\n",
            " [6.7 3. ]\n",
            " [6.  2.9]\n",
            " [5.7 2.6]\n",
            " [5.5 2.4]\n",
            " [5.5 2.4]\n",
            " [5.8 2.7]\n",
            " [6.  2.7]\n",
            " [5.4 3. ]\n",
            " [6.  3.4]\n",
            " [6.7 3.1]\n",
            " [6.3 2.3]\n",
            " [5.6 3. ]\n",
            " [5.5 2.5]\n",
            " [5.5 2.6]\n",
            " [6.1 3. ]\n",
            " [5.8 2.6]\n",
            " [5.  2.3]\n",
            " [5.6 2.7]\n",
            " [5.7 3. ]\n",
            " [5.7 2.9]\n",
            " [6.2 2.9]\n",
            " [5.1 2.5]\n",
            " [5.7 2.8]\n",
            " [6.3 3.3]\n",
            " [5.8 2.7]\n",
            " [7.1 3. ]\n",
            " [6.3 2.9]\n",
            " [6.5 3. ]\n",
            " [7.6 3. ]\n",
            " [4.9 2.5]\n",
            " [7.3 2.9]\n",
            " [6.7 2.5]\n",
            " [7.2 3.6]\n",
            " [6.5 3.2]\n",
            " [6.4 2.7]\n",
            " [6.8 3. ]\n",
            " [5.7 2.5]\n",
            " [5.8 2.8]\n",
            " [6.4 3.2]\n",
            " [6.5 3. ]\n",
            " [7.7 3.8]\n",
            " [7.7 2.6]\n",
            " [6.  2.2]\n",
            " [6.9 3.2]\n",
            " [5.6 2.8]\n",
            " [7.7 2.8]\n",
            " [6.3 2.7]\n",
            " [6.7 3.3]\n",
            " [7.2 3.2]\n",
            " [6.2 2.8]\n",
            " [6.1 3. ]\n",
            " [6.4 2.8]\n",
            " [7.2 3. ]\n",
            " [7.4 2.8]\n",
            " [7.9 3.8]\n",
            " [6.4 2.8]\n",
            " [6.3 2.8]\n",
            " [6.1 2.6]\n",
            " [7.7 3. ]\n",
            " [6.3 3.4]\n",
            " [6.4 3.1]\n",
            " [6.  3. ]\n",
            " [6.9 3.1]\n",
            " [6.7 3.1]\n",
            " [6.9 3.1]\n",
            " [5.8 2.7]\n",
            " [6.8 3.2]\n",
            " [6.7 3.3]\n",
            " [6.7 3. ]\n",
            " [6.3 2.5]\n",
            " [6.5 3. ]\n",
            " [6.2 3.4]\n",
            " [5.9 3. ]]\n"
          ],
          "name": "stdout"
        }
      ]
    },
    {
      "cell_type": "markdown",
      "metadata": {
        "id": "2J2fOqcx2bvG"
      },
      "source": [
        "###Data Preprocessing\n",
        "---\n",
        "Melakukan standardisasi pada nilai array menggunakan StandardScaler"
      ]
    },
    {
      "cell_type": "code",
      "metadata": {
        "id": "qhSy2_IygWd-",
        "outputId": "0f7a870c-0e4b-441f-94a7-5e13c596a322",
        "colab": {
          "base_uri": "https://localhost:8080/"
        }
      },
      "source": [
        "scaler = StandardScaler()\n",
        "x_scaled = scaler.fit_transform(x_array)\n",
        "x_scaled"
      ],
      "execution_count": null,
      "outputs": [
        {
          "output_type": "execute_result",
          "data": {
            "text/plain": [
              "array([[-0.90068117,  1.03205722],\n",
              "       [-1.14301691, -0.1249576 ],\n",
              "       [-1.38535265,  0.33784833],\n",
              "       [-1.50652052,  0.10644536],\n",
              "       [-1.02184904,  1.26346019],\n",
              "       [-0.53717756,  1.95766909],\n",
              "       [-1.50652052,  0.80065426],\n",
              "       [-1.02184904,  0.80065426],\n",
              "       [-1.74885626, -0.35636057],\n",
              "       [-1.14301691,  0.10644536],\n",
              "       [-0.53717756,  1.49486315],\n",
              "       [-1.26418478,  0.80065426],\n",
              "       [-1.26418478, -0.1249576 ],\n",
              "       [-1.87002413, -0.1249576 ],\n",
              "       [-0.05250608,  2.18907205],\n",
              "       [-0.17367395,  3.11468391],\n",
              "       [-0.53717756,  1.95766909],\n",
              "       [-0.90068117,  1.03205722],\n",
              "       [-0.17367395,  1.72626612],\n",
              "       [-0.90068117,  1.72626612],\n",
              "       [-0.53717756,  0.80065426],\n",
              "       [-0.90068117,  1.49486315],\n",
              "       [-1.50652052,  1.26346019],\n",
              "       [-0.90068117,  0.56925129],\n",
              "       [-1.26418478,  0.80065426],\n",
              "       [-1.02184904, -0.1249576 ],\n",
              "       [-1.02184904,  0.80065426],\n",
              "       [-0.7795133 ,  1.03205722],\n",
              "       [-0.7795133 ,  0.80065426],\n",
              "       [-1.38535265,  0.33784833],\n",
              "       [-1.26418478,  0.10644536],\n",
              "       [-0.53717756,  0.80065426],\n",
              "       [-0.7795133 ,  2.42047502],\n",
              "       [-0.41600969,  2.65187798],\n",
              "       [-1.14301691,  0.10644536],\n",
              "       [-1.02184904,  0.33784833],\n",
              "       [-0.41600969,  1.03205722],\n",
              "       [-1.14301691,  0.10644536],\n",
              "       [-1.74885626, -0.1249576 ],\n",
              "       [-0.90068117,  0.80065426],\n",
              "       [-1.02184904,  1.03205722],\n",
              "       [-1.62768839, -1.74477836],\n",
              "       [-1.74885626,  0.33784833],\n",
              "       [-1.02184904,  1.03205722],\n",
              "       [-0.90068117,  1.72626612],\n",
              "       [-1.26418478, -0.1249576 ],\n",
              "       [-0.90068117,  1.72626612],\n",
              "       [-1.50652052,  0.33784833],\n",
              "       [-0.65834543,  1.49486315],\n",
              "       [-1.02184904,  0.56925129],\n",
              "       [ 1.40150837,  0.33784833],\n",
              "       [ 0.67450115,  0.33784833],\n",
              "       [ 1.2803405 ,  0.10644536],\n",
              "       [-0.41600969, -1.74477836],\n",
              "       [ 0.79566902, -0.58776353],\n",
              "       [-0.17367395, -0.58776353],\n",
              "       [ 0.55333328,  0.56925129],\n",
              "       [-1.14301691, -1.51337539],\n",
              "       [ 0.91683689, -0.35636057],\n",
              "       [-0.7795133 , -0.8191665 ],\n",
              "       [-1.02184904, -2.43898725],\n",
              "       [ 0.06866179, -0.1249576 ],\n",
              "       [ 0.18982966, -1.97618132],\n",
              "       [ 0.31099753, -0.35636057],\n",
              "       [-0.29484182, -0.35636057],\n",
              "       [ 1.03800476,  0.10644536],\n",
              "       [-0.29484182, -0.1249576 ],\n",
              "       [-0.05250608, -0.8191665 ],\n",
              "       [ 0.4321654 , -1.97618132],\n",
              "       [-0.29484182, -1.28197243],\n",
              "       [ 0.06866179,  0.33784833],\n",
              "       [ 0.31099753, -0.58776353],\n",
              "       [ 0.55333328, -1.28197243],\n",
              "       [ 0.31099753, -0.58776353],\n",
              "       [ 0.67450115, -0.35636057],\n",
              "       [ 0.91683689, -0.1249576 ],\n",
              "       [ 1.15917263, -0.58776353],\n",
              "       [ 1.03800476, -0.1249576 ],\n",
              "       [ 0.18982966, -0.35636057],\n",
              "       [-0.17367395, -1.05056946],\n",
              "       [-0.41600969, -1.51337539],\n",
              "       [-0.41600969, -1.51337539],\n",
              "       [-0.05250608, -0.8191665 ],\n",
              "       [ 0.18982966, -0.8191665 ],\n",
              "       [-0.53717756, -0.1249576 ],\n",
              "       [ 0.18982966,  0.80065426],\n",
              "       [ 1.03800476,  0.10644536],\n",
              "       [ 0.55333328, -1.74477836],\n",
              "       [-0.29484182, -0.1249576 ],\n",
              "       [-0.41600969, -1.28197243],\n",
              "       [-0.41600969, -1.05056946],\n",
              "       [ 0.31099753, -0.1249576 ],\n",
              "       [-0.05250608, -1.05056946],\n",
              "       [-1.02184904, -1.74477836],\n",
              "       [-0.29484182, -0.8191665 ],\n",
              "       [-0.17367395, -0.1249576 ],\n",
              "       [-0.17367395, -0.35636057],\n",
              "       [ 0.4321654 , -0.35636057],\n",
              "       [-0.90068117, -1.28197243],\n",
              "       [-0.17367395, -0.58776353],\n",
              "       [ 0.55333328,  0.56925129],\n",
              "       [-0.05250608, -0.8191665 ],\n",
              "       [ 1.52267624, -0.1249576 ],\n",
              "       [ 0.55333328, -0.35636057],\n",
              "       [ 0.79566902, -0.1249576 ],\n",
              "       [ 2.12851559, -0.1249576 ],\n",
              "       [-1.14301691, -1.28197243],\n",
              "       [ 1.76501198, -0.35636057],\n",
              "       [ 1.03800476, -1.28197243],\n",
              "       [ 1.64384411,  1.26346019],\n",
              "       [ 0.79566902,  0.33784833],\n",
              "       [ 0.67450115, -0.8191665 ],\n",
              "       [ 1.15917263, -0.1249576 ],\n",
              "       [-0.17367395, -1.28197243],\n",
              "       [-0.05250608, -0.58776353],\n",
              "       [ 0.67450115,  0.33784833],\n",
              "       [ 0.79566902, -0.1249576 ],\n",
              "       [ 2.24968346,  1.72626612],\n",
              "       [ 2.24968346, -1.05056946],\n",
              "       [ 0.18982966, -1.97618132],\n",
              "       [ 1.2803405 ,  0.33784833],\n",
              "       [-0.29484182, -0.58776353],\n",
              "       [ 2.24968346, -0.58776353],\n",
              "       [ 0.55333328, -0.8191665 ],\n",
              "       [ 1.03800476,  0.56925129],\n",
              "       [ 1.64384411,  0.33784833],\n",
              "       [ 0.4321654 , -0.58776353],\n",
              "       [ 0.31099753, -0.1249576 ],\n",
              "       [ 0.67450115, -0.58776353],\n",
              "       [ 1.64384411, -0.1249576 ],\n",
              "       [ 1.88617985, -0.58776353],\n",
              "       [ 2.4920192 ,  1.72626612],\n",
              "       [ 0.67450115, -0.58776353],\n",
              "       [ 0.55333328, -0.58776353],\n",
              "       [ 0.31099753, -1.05056946],\n",
              "       [ 2.24968346, -0.1249576 ],\n",
              "       [ 0.55333328,  0.80065426],\n",
              "       [ 0.67450115,  0.10644536],\n",
              "       [ 0.18982966, -0.1249576 ],\n",
              "       [ 1.2803405 ,  0.10644536],\n",
              "       [ 1.03800476,  0.10644536],\n",
              "       [ 1.2803405 ,  0.10644536],\n",
              "       [-0.05250608, -0.8191665 ],\n",
              "       [ 1.15917263,  0.33784833],\n",
              "       [ 1.03800476,  0.56925129],\n",
              "       [ 1.03800476, -0.1249576 ],\n",
              "       [ 0.55333328, -1.28197243],\n",
              "       [ 0.79566902, -0.1249576 ],\n",
              "       [ 0.4321654 ,  0.80065426],\n",
              "       [ 0.06866179, -0.1249576 ]])"
            ]
          },
          "metadata": {
            "tags": []
          },
          "execution_count": 17
        }
      ]
    },
    {
      "cell_type": "markdown",
      "metadata": {
        "id": "hRL7sfVY2thU"
      },
      "source": [
        "###K-Means Clustering\n",
        "---\n",
        "Melakukan clustering pada data Iris dan menentukan centroidnya."
      ]
    },
    {
      "cell_type": "code",
      "metadata": {
        "id": "8PyD5qM080f_",
        "outputId": "3eb09d02-6cba-43cb-edd3-585bb2d166f0",
        "colab": {
          "base_uri": "https://localhost:8080/",
          "height": 204
        }
      },
      "source": [
        "kmeans = (KMeans(n_clusters = 5 ,init='k-means++', n_init = 10 ,max_iter=300, \n",
        "                        tol=0.0001,  random_state= 200  , algorithm='elkan') )\n",
        "\n",
        "kmeans.fit(iris_x)\n",
        "centroid = kmeans.cluster_centers_\n",
        "iris[\"Cluster\"] = kmeans.labels_\n",
        "iris.head()"
      ],
      "execution_count": null,
      "outputs": [
        {
          "output_type": "execute_result",
          "data": {
            "text/html": [
              "<div>\n",
              "<style scoped>\n",
              "    .dataframe tbody tr th:only-of-type {\n",
              "        vertical-align: middle;\n",
              "    }\n",
              "\n",
              "    .dataframe tbody tr th {\n",
              "        vertical-align: top;\n",
              "    }\n",
              "\n",
              "    .dataframe thead th {\n",
              "        text-align: right;\n",
              "    }\n",
              "</style>\n",
              "<table border=\"1\" class=\"dataframe\">\n",
              "  <thead>\n",
              "    <tr style=\"text-align: right;\">\n",
              "      <th></th>\n",
              "      <th>Id</th>\n",
              "      <th>SepalLengthCm</th>\n",
              "      <th>SepalWidthCm</th>\n",
              "      <th>PetalLengthCm</th>\n",
              "      <th>PetalWidthCm</th>\n",
              "      <th>Species</th>\n",
              "      <th>Cluster</th>\n",
              "    </tr>\n",
              "  </thead>\n",
              "  <tbody>\n",
              "    <tr>\n",
              "      <th>0</th>\n",
              "      <td>1</td>\n",
              "      <td>5.1</td>\n",
              "      <td>3.5</td>\n",
              "      <td>1.4</td>\n",
              "      <td>0.2</td>\n",
              "      <td>Iris-setosa</td>\n",
              "      <td>4</td>\n",
              "    </tr>\n",
              "    <tr>\n",
              "      <th>1</th>\n",
              "      <td>2</td>\n",
              "      <td>4.9</td>\n",
              "      <td>3.0</td>\n",
              "      <td>1.4</td>\n",
              "      <td>0.2</td>\n",
              "      <td>Iris-setosa</td>\n",
              "      <td>1</td>\n",
              "    </tr>\n",
              "    <tr>\n",
              "      <th>2</th>\n",
              "      <td>3</td>\n",
              "      <td>4.7</td>\n",
              "      <td>3.2</td>\n",
              "      <td>1.3</td>\n",
              "      <td>0.2</td>\n",
              "      <td>Iris-setosa</td>\n",
              "      <td>1</td>\n",
              "    </tr>\n",
              "    <tr>\n",
              "      <th>3</th>\n",
              "      <td>4</td>\n",
              "      <td>4.6</td>\n",
              "      <td>3.1</td>\n",
              "      <td>1.5</td>\n",
              "      <td>0.2</td>\n",
              "      <td>Iris-setosa</td>\n",
              "      <td>1</td>\n",
              "    </tr>\n",
              "    <tr>\n",
              "      <th>4</th>\n",
              "      <td>5</td>\n",
              "      <td>5.0</td>\n",
              "      <td>3.6</td>\n",
              "      <td>1.4</td>\n",
              "      <td>0.2</td>\n",
              "      <td>Iris-setosa</td>\n",
              "      <td>4</td>\n",
              "    </tr>\n",
              "  </tbody>\n",
              "</table>\n",
              "</div>"
            ],
            "text/plain": [
              "   Id  SepalLengthCm  SepalWidthCm  ...  PetalWidthCm      Species Cluster\n",
              "0   1            5.1           3.5  ...           0.2  Iris-setosa       4\n",
              "1   2            4.9           3.0  ...           0.2  Iris-setosa       1\n",
              "2   3            4.7           3.2  ...           0.2  Iris-setosa       1\n",
              "3   4            4.6           3.1  ...           0.2  Iris-setosa       1\n",
              "4   5            5.0           3.6  ...           0.2  Iris-setosa       4\n",
              "\n",
              "[5 rows x 7 columns]"
            ]
          },
          "metadata": {
            "tags": []
          },
          "execution_count": 18
        }
      ]
    },
    {
      "cell_type": "markdown",
      "metadata": {
        "id": "UWglxxvX2u_D"
      },
      "source": [
        "###Scatter Plot setelah Clustering\n",
        "---\n",
        "Scatter plot hasil clustering menggunakan K-Means."
      ]
    },
    {
      "cell_type": "code",
      "metadata": {
        "id": "iMGS5U668fy2"
      },
      "source": [
        "h = 0.02\n",
        "x_min, x_max = iris_x[:, 0].min() - 1, iris_x[:, 0].max() + 1\n",
        "y_min, y_max = iris_x[:, 1].min() - 1, iris_x[:, 1].max() + 1\n",
        "xx, yy = np.meshgrid(np.arange(x_min, x_max, h), np.arange(y_min, y_max, h))\n",
        "Z = kmeans.predict(np.c_[xx.ravel(), yy.ravel()]) "
      ],
      "execution_count": null,
      "outputs": []
    },
    {
      "cell_type": "code",
      "metadata": {
        "id": "r6tEJjJO9MqA",
        "outputId": "1b18f7e2-7ebc-4c22-e7c9-305aad781c64",
        "colab": {
          "base_uri": "https://localhost:8080/",
          "height": 442
        }
      },
      "source": [
        "plt.figure(1 , figsize = (15 , 7) )\n",
        "plt.clf()\n",
        "Z = Z.reshape(xx.shape)\n",
        "plt.imshow(Z , interpolation='nearest', \n",
        "           extent=(xx.min(), xx.max(), yy.min(), yy.max()),\n",
        "           cmap = plt.cm.Pastel2, aspect = 'auto', origin='lower')\n",
        "\n",
        "plt.scatter( x = 'SepalLengthCm' ,y = 'SepalWidthCm' , data = iris , c = iris[\"Cluster\"] , s = 200 )\n",
        "plt.scatter(x = centroid[: , 0] , y =  centroid[: , 1] , s = 300 , c = 'red' , alpha = 0.5)\n",
        "plt.ylabel('Spending Score (1-100)') , plt.xlabel('Age')\n",
        "plt.show()"
      ],
      "execution_count": null,
      "outputs": [
        {
          "output_type": "display_data",
          "data": {
            "image/png": "[encoded data removed]",
            "text/plain": [
              "<Figure size 1080x504 with 1 Axes>"
            ]
          },
          "metadata": {
            "tags": [],
            "needs_background": "light"
          }
        }
      ]
    },
    {
      "cell_type": "markdown",
      "metadata": {
        "id": "cQfNrts72xRG"
      },
      "source": [
        "###Silhouette Score\n",
        "---\n",
        "Menampilkan silhouette score dari hasil clustering."
      ]
    },
    {
      "cell_type": "code",
      "metadata": {
        "id": "FWM8mNzK_R9m",
        "outputId": "d5c62c8d-1e0f-4019-edc3-e958a89adf84",
        "colab": {
          "base_uri": "https://localhost:8080/"
        }
      },
      "source": [
        "score = silhouette_score(x_scaled, kmeans.labels_, metric=\"euclidean\")\n",
        "\n",
        "score"
      ],
      "execution_count": null,
      "outputs": [
        {
          "output_type": "execute_result",
          "data": {
            "text/plain": [
              "0.33861053133413566"
            ]
          },
          "metadata": {
            "tags": []
          },
          "execution_count": 25
        }
      ]
    },
    {
      "cell_type": "markdown",
      "metadata": {
        "id": "CItO6B9f42xu"
      },
      "source": [
        "##AGGLOMERATIVE HIERARCHY CLUSTERING\n",
        "---"
      ]
    },
    {
      "cell_type": "markdown",
      "metadata": {
        "id": "3v614uLf5AnE"
      },
      "source": [
        "###Import Library AHC\n",
        "---\n",
        "Import library yang digunakan untuk Agglomerrative Hierarchy Clustering."
      ]
    },
    {
      "cell_type": "code",
      "metadata": {
        "id": "FaiKDBdV_Xc0"
      },
      "source": [
        "from scipy.cluster import hierarchy\n",
        "from scipy.spatial import distance_matrix\n",
        "from sklearn.cluster import AgglomerativeClustering\n",
        "from sklearn.preprocessing import StandardScaler\n",
        "import scipy.cluster.hierarchy\n",
        "from scipy.cluster.hierarchy import fcluster"
      ],
      "execution_count": null,
      "outputs": []
    },
    {
      "cell_type": "markdown",
      "metadata": {
        "id": "uZ6pKsfA5BKs"
      },
      "source": [
        "###Data Preprocessing\n",
        "---\n",
        "Melakukan standardisasi kembali untuk AHC."
      ]
    },
    {
      "cell_type": "code",
      "metadata": {
        "id": "GuzS2xFd_Xkg"
      },
      "source": [
        "aglo_iris = StandardScaler().fit_transform(iris_x)\n",
        "aglo_iris"
      ],
      "execution_count": null,
      "outputs": []
    },
    {
      "cell_type": "markdown",
      "metadata": {
        "id": "m7C-ocVs5no3"
      },
      "source": [
        "###Agglomerative Hierarchy Clustering Linkage Type"
      ]
    },
    {
      "cell_type": "markdown",
      "metadata": {
        "id": "_5Gi3pQD5kMn"
      },
      "source": [
        "####Clustering dengan Complete Linkage AHC\n",
        "---\n",
        "Melakukan hierarchy clustering dengan metode complete linkage."
      ]
    },
    {
      "cell_type": "markdown",
      "metadata": {
        "id": "ezGqCJ4B7elB"
      },
      "source": [
        "#####Penentuan Cluster\n",
        "---\n",
        "Menentukan cluster dalam data Iris."
      ]
    },
    {
      "cell_type": "code",
      "metadata": {
        "id": "GhRjH1id_Xm1"
      },
      "source": [
        "agglom = AgglomerativeClustering(n_clusters=4, linkage='complete')\n",
        "agglom.fit(aglo_iris)\n",
        "agglom.labels_"
      ],
      "execution_count": null,
      "outputs": []
    },
    {
      "cell_type": "markdown",
      "metadata": {
        "id": "mA7pFkFr7ddA"
      },
      "source": [
        "#####Distance Matrix \n",
        "---\n",
        "Menentukan jarak matriks data Iris."
      ]
    },
    {
      "cell_type": "code",
      "metadata": {
        "id": "Hkz7P6d9_Xtg"
      },
      "source": [
        "dist_matrix = distance_matrix(aglo_iris,aglo_iris)\n",
        "dist_matrix"
      ],
      "execution_count": null,
      "outputs": []
    },
    {
      "cell_type": "markdown",
      "metadata": {
        "id": "HiIHhbKD93jN"
      },
      "source": [
        "#####AHC Complete Linkage Dendogram\n",
        "---\n",
        "Menampilkan dendogram hasil AHC complete linkage."
      ]
    },
    {
      "cell_type": "code",
      "metadata": {
        "id": "SabfYRRL_X0Q"
      },
      "source": [
        "Z = hierarchy.linkage(dist_matrix, 'complete')\n",
        "dendro = hierarchy.dendrogram(Z)"
      ],
      "execution_count": null,
      "outputs": []
    },
    {
      "cell_type": "markdown",
      "metadata": {
        "id": "1OE80WN199F1"
      },
      "source": [
        "#####Silhouette Score\n",
        "---\n",
        "Menunjukkan silhouette score dari complete linkage.\n"
      ]
    },
    {
      "cell_type": "code",
      "metadata": {
        "id": "zgQENP0z_X7b"
      },
      "source": [
        "clusters = fcluster(Z, 4, criterion='maxclust')\n",
        "metrics.silhouette_score(iris_x,clusters)"
      ],
      "execution_count": null,
      "outputs": []
    },
    {
      "cell_type": "markdown",
      "metadata": {
        "id": "SbzRnNZa-Ri6"
      },
      "source": [
        "####Clustering dengan Single Linkage AHC\n",
        "---\n",
        "Melakukan hierarchy clustering dengan metode single linkage."
      ]
    },
    {
      "cell_type": "markdown",
      "metadata": {
        "id": "xdW-K1Kd-Sbm"
      },
      "source": [
        "####Clustering dengan Single Linkage AHC\n",
        "---\n",
        "Melakukan hierarchy clustering dengan metode single linkage."
      ]
    },
    {
      "cell_type": "markdown",
      "metadata": {
        "id": "euEzJIwm_s2s"
      },
      "source": [
        "#####Penentuan Cluster\n",
        "---\n",
        "Menentukan cluster untuk AHC"
      ]
    },
    {
      "cell_type": "code",
      "metadata": {
        "id": "V_Q-94gGBS_K"
      },
      "source": [
        "aggloms = AgglomerativeClustering(n_clusters=4, linkage='single')\n",
        "Zs = hierarchy.linkage(dist_matrix, 'single')\n",
        "dendros = hierarchy.dendrogram(Zs)"
      ],
      "execution_count": null,
      "outputs": []
    },
    {
      "cell_type": "markdown",
      "metadata": {
        "id": "5XHqWAiK_yL8"
      },
      "source": [
        "#####AHC Single Linkage Dendogram\n",
        "---\n",
        "Menampilkan dendogram dari hasil AHC Single Linkage"
      ]
    },
    {
      "cell_type": "code",
      "metadata": {
        "id": "vcOXCzTiBS3z"
      },
      "source": [
        "clusters = fcluster(Zs, 4, criterion='maxclust')\n",
        "metrics.silhouette_score(iris_x,clusters)"
      ],
      "execution_count": null,
      "outputs": []
    },
    {
      "cell_type": "markdown",
      "metadata": {
        "id": "OwpPd6gLBqzv"
      },
      "source": [
        "####Clustering dengan Average Linkage AHC\n",
        "---\n",
        "Menampilkan silhouette score untuk AHC Average Linkage"
      ]
    },
    {
      "cell_type": "markdown",
      "metadata": {
        "id": "sqsa7clA_zsC"
      },
      "source": [
        "#####Penentuan Cluster\n",
        "---\n",
        "Menampilkan silhouette score untuk AHC Average Linkage"
      ]
    },
    {
      "cell_type": "code",
      "metadata": {
        "id": "JkNVz_LD_X9a"
      },
      "source": [
        "aggloavg = AgglomerativeClustering(n_clusters=4, linkage='average')\n",
        "aggloavg.fit(aglo_iris)\n",
        "aggloavg.labels_"
      ],
      "execution_count": null,
      "outputs": []
    },
    {
      "cell_type": "markdown",
      "metadata": {
        "id": "Dr-zqSdwBvQc"
      },
      "source": [
        "#####AHC Average Linkage Dendogram\n",
        "---\n",
        "Menampilkan dendogram hasil AHC Average Linkage."
      ]
    },
    {
      "cell_type": "code",
      "metadata": {
        "id": "glZB8_ID_YDw"
      },
      "source": [
        "Zavg = hierarchy.linkage(dist_matrix, 'average')\n",
        "dendravg = hierarchy.dendrogram(Zavg)"
      ],
      "execution_count": null,
      "outputs": []
    },
    {
      "cell_type": "markdown",
      "metadata": {
        "id": "7D96AI4DCICc"
      },
      "source": [
        "#####Silhouette Score\n",
        "---\n",
        "Menampilkan dendogram hasil AHC Average Linkage."
      ]
    },
    {
      "cell_type": "code",
      "metadata": {
        "id": "022NtMRG_XyF"
      },
      "source": [
        "clusters = fcluster(Zavg, 4, criterion='maxclust')\n",
        "metrics.silhouette_score(iris_x,clusters)"
      ],
      "execution_count": null,
      "outputs": []
    }
  ]
}