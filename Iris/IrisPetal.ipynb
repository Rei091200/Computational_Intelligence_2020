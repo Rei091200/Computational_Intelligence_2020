{
  "nbformat": 4,
  "nbformat_minor": 0,
  "metadata": {
    "colab": {
      "name": "IrisPetal.ipynb",
      "provenance": []
    },
    "kernelspec": {
      "name": "python3",
      "display_name": "Python 3"
    }
  },
  "cells": [
    {
      "cell_type": "markdown",
      "metadata": {
        "id": "RCrAkSEEpR5r"
      },
      "source": [
        "#**PETAL OF IRIS** \n"
      ]
    },
    {
      "cell_type": "markdown",
      "metadata": {
        "id": "o7qXHO3hM-Vs"
      },
      "source": [
        "##KMEANS CLUSTERING\n",
        "---"
      ]
    },
    {
      "cell_type": "markdown",
      "metadata": {
        "id": "F2gKFdMCGIh3"
      },
      "source": [
        "###Import Library K-Means\n",
        "---\n",
        "Import terlebih dahulu library yang dibutuhkan"
      ]
    },
    {
      "cell_type": "code",
      "metadata": {
        "id": "pWZRYQybpJbM"
      },
      "source": [
        "import pandas as pd\n",
        "import seaborn as sns\n",
        "import numpy as np\n",
        "import plotly as py\n",
        "import matplotlib.pyplot as plt\n",
        "from sklearn import metrics\n",
        "from sklearn.cluster import KMeans\n",
        "from sklearn.preprocessing import StandardScaler\n",
        "from sklearn.metrics import silhouette_score"
      ],
      "execution_count": null,
      "outputs": []
    },
    {
      "cell_type": "markdown",
      "metadata": {
        "id": "GGrUwvxNpTbd"
      },
      "source": [
        "###Read CSV Files\n",
        "---\n",
        "Membaca file .csv yang akan di*cluster*kan."
      ]
    },
    {
      "cell_type": "code",
      "metadata": {
        "id": "FNoLr9h5pTk5"
      },
      "source": [
        "iris = pd.read_csv('Iris.csv')\n",
        "iris.head()"
      ],
      "execution_count": null,
      "outputs": []
    },
    {
      "cell_type": "markdown",
      "metadata": {
        "id": "fojR6qUEpTr_"
      },
      "source": [
        "###File Shape\n",
        "---\n",
        "Menunjukkan banyak kolom dan baris dari data yang sudah di*upload*"
      ]
    },
    {
      "cell_type": "code",
      "metadata": {
        "id": "5vSGVujNpT07"
      },
      "source": [
        "iris.shape"
      ],
      "execution_count": null,
      "outputs": []
    },
    {
      "cell_type": "markdown",
      "metadata": {
        "id": "iZKdWbV2pT7w"
      },
      "source": [
        "###Deskripsi Data\n",
        "---\n",
        "Menunjukkan deskripsi dari data yang digunakan."
      ]
    },
    {
      "cell_type": "code",
      "metadata": {
        "id": "fx96vpBOpUUt"
      },
      "source": [
        "iris.describe()"
      ],
      "execution_count": null,
      "outputs": []
    },
    {
      "cell_type": "markdown",
      "metadata": {
        "id": "fjqCSEMzpUbV"
      },
      "source": [
        "###Data Checking\n",
        "---\n",
        "Mengecek apakah isi dari data terdapat null atau tidak."
      ]
    },
    {
      "cell_type": "code",
      "metadata": {
        "id": "kZ9gXaHJpUiG"
      },
      "source": [
        "iris.isnull().sum()"
      ],
      "execution_count": null,
      "outputs": []
    },
    {
      "cell_type": "markdown",
      "metadata": {
        "id": "WzKO6J2NqFgO"
      },
      "source": [
        "###Data Scatter Plot\n",
        "---\n",
        "Menyajikan hasil dari scatter plot dari data Iris."
      ]
    },
    {
      "cell_type": "code",
      "metadata": {
        "id": "LKToI1lLpTz2"
      },
      "source": [
        "plt.figure(1 , figsize = (15 , 6))\n",
        "for species in ['Iris-setosa' , 'Iris-versicolor', 'Iris-virginica']:\n",
        "    plt.scatter(x = 'PetalLengthCm' , y = 'PetalWidthCm' , data = iris[iris['Species'] == species] ,\n",
        "                s = 200 , alpha = 0.5 , label = species)\n",
        "plt.xlabel('Petal Length (cm)'), plt.ylabel('Petal Width (cm)') \n",
        "plt.title('Petal Of Iris')\n",
        "plt.legend()\n",
        "plt.show()"
      ],
      "execution_count": null,
      "outputs": []
    },
    {
      "cell_type": "markdown",
      "metadata": {
        "id": "aDpgHEQwqGF4"
      },
      "source": [
        "###Elbow Method\n",
        "---\n",
        "Menyajikan Elbow Method dari data Iris"
      ]
    },
    {
      "cell_type": "code",
      "metadata": {
        "id": "6NhMNRlOqHQp"
      },
      "source": [
        "iris_x = iris[['PetalLengthCm' , 'PetalWidthCm']].iloc[: , :].values\n",
        "inertia = []\n",
        "\n",
        "for n in range(1 , 11):\n",
        "    kmeans = (KMeans(n_clusters = n ,init='k-means++', n_init = 10 ,max_iter=300, \n",
        "                        tol=0.0001,  random_state= 200  , algorithm='elkan') )\n",
        "    kmeans.fit(iris_x)\n",
        "    inertia.append(kmeans.inertia_)\n"
      ],
      "execution_count": null,
      "outputs": []
    },
    {
      "cell_type": "code",
      "metadata": {
        "id": "zKAE0_VFqWmd"
      },
      "source": [
        "plt.figure(1 , figsize = (15 ,6))\n",
        "plt.plot(np.arange(1 , 11) , inertia , 'o')\n",
        "plt.plot(np.arange(1 , 11) , inertia , '-' , alpha = 0.5)\n",
        "plt.xlabel('Number of Clusters') , plt.ylabel('Inertia')\n",
        "plt.title('Petal Of Iris')\n",
        "plt.show()"
      ],
      "execution_count": null,
      "outputs": []
    },
    {
      "cell_type": "markdown",
      "metadata": {
        "id": "bfO_QOrrqXBI"
      },
      "source": [
        "###Pengubahan Data menjadi Array Numpy\n",
        "---\n",
        "Data yang ada diubah menjadi Array Numpy untuk mempermudah clustering "
      ]
    },
    {
      "cell_type": "code",
      "metadata": {
        "id": "IReDtUjEqXVF"
      },
      "source": [
        "x_array =  np.array(iris_x)\n",
        "print(x_array)"
      ],
      "execution_count": null,
      "outputs": []
    },
    {
      "cell_type": "markdown",
      "metadata": {
        "id": "b6RV4CIrqXtw"
      },
      "source": [
        "###Data Preprocessing\n",
        "---\n",
        "Melakukan standardisasi pada nilai array menggunakan StandardScaler"
      ]
    },
    {
      "cell_type": "code",
      "metadata": {
        "id": "R4MRlcRuqYCl"
      },
      "source": [
        "scaler = StandardScaler()\n",
        "x_scaled = scaler.fit_transform(x_array)\n",
        "x_scaled"
      ],
      "execution_count": null,
      "outputs": []
    },
    {
      "cell_type": "markdown",
      "metadata": {
        "id": "pqykIKHkD76Z"
      },
      "source": [
        "###K-Means Clustering\n",
        "---\n",
        "Melakukan clustering pada data Iris dan menentukan centroidnya."
      ]
    },
    {
      "cell_type": "code",
      "metadata": {
        "id": "9X8sa4BkD8Ar"
      },
      "source": [
        "kmeans = (KMeans(n_clusters = 5 ,init='k-means++', n_init = 10 ,max_iter=300, \n",
        "                        tol=0.0001,  random_state= 200  , algorithm='elkan') )\n",
        "\n",
        "kmeans.fit(iris_x)\n",
        "centroid = kmeans.cluster_centers_\n",
        "iris[\"Cluster\"] = kmeans.labels_\n",
        "iris.head()"
      ],
      "execution_count": null,
      "outputs": []
    },
    {
      "cell_type": "markdown",
      "metadata": {
        "id": "L_JjBfNMD-Ho"
      },
      "source": [
        "###Scatter Plot setelah Clustering\n",
        "---\n",
        "Scatter plot hasil clustering menggunakan K-Means."
      ]
    },
    {
      "cell_type": "code",
      "metadata": {
        "id": "DgyFPHs4D-Np"
      },
      "source": [
        "h = 0.02\n",
        "x_min, x_max = iris_x[:, 0].min() - 1, iris_x[:, 0].max() + 1\n",
        "y_min, y_max = iris_x[:, 1].min() - 1, iris_x[:, 1].max() + 1\n",
        "xx, yy = np.meshgrid(np.arange(x_min, x_max, h), np.arange(y_min, y_max, h))\n",
        "Z = kmeans.predict(np.c_[xx.ravel(), yy.ravel()]) "
      ],
      "execution_count": null,
      "outputs": []
    },
    {
      "cell_type": "code",
      "metadata": {
        "id": "pokB-_mCEAPr"
      },
      "source": [
        "plt.figure(1 , figsize = (15 , 7) )\n",
        "plt.clf()\n",
        "Z = Z.reshape(xx.shape)\n",
        "plt.imshow(Z , interpolation='nearest', \n",
        "           extent=(xx.min(), xx.max(), yy.min(), yy.max()),\n",
        "           cmap = plt.cm.Pastel2, aspect = 'auto', origin='lower')\n",
        "\n",
        "plt.scatter( x = 'PetalLengthCm' ,y = 'PetalWidthCm' , data = iris , c = iris[\"Cluster\"] , s = 200 )\n",
        "plt.scatter(x = centroid[: , 0] , y =  centroid[: , 1] , s = 300 , c = 'red' , alpha = 0.5)\n",
        "plt.ylabel('Spending Score (1-100)') , plt.xlabel('Age')\n",
        "plt.show()"
      ],
      "execution_count": null,
      "outputs": []
    },
    {
      "cell_type": "markdown",
      "metadata": {
        "id": "ReV6R4WtERTf"
      },
      "source": [
        "###Silhouette Score\n",
        "---\n",
        "Menampilkan silhouette score dari hasil clustering."
      ]
    },
    {
      "cell_type": "code",
      "metadata": {
        "id": "g2ioknW2ERdt",
        "outputId": "3f3d02fc-e544-4c4c-a107-9a0422da55fe",
        "colab": {
          "base_uri": "https://localhost:8080/"
        }
      },
      "source": [
        "score = silhouette_score(x_scaled, kmeans.labels_, metric=\"euclidean\")\n",
        "\n",
        "score"
      ],
      "execution_count": null,
      "outputs": [
        {
          "output_type": "execute_result",
          "data": {
            "text/plain": [
              "0.5306451277220161"
            ]
          },
          "metadata": {
            "tags": []
          },
          "execution_count": 21
        }
      ]
    },
    {
      "cell_type": "markdown",
      "metadata": {
        "id": "3tGxqLlJNF2z"
      },
      "source": [
        "##AGGLOMERATIVE HIERARCHY CLUSTERING\n",
        "---"
      ]
    },
    {
      "cell_type": "markdown",
      "metadata": {
        "id": "LkwztFnUEpMK"
      },
      "source": [
        "###Import Library AHC\n",
        "---\n",
        "Import library yang digunakan untuk Agglomerrative Hierarchy Clustering."
      ]
    },
    {
      "cell_type": "code",
      "metadata": {
        "id": "P8VNoHq9EpTe"
      },
      "source": [
        "from scipy.cluster import hierarchy\n",
        "from scipy.spatial import distance_matrix\n",
        "from sklearn.cluster import AgglomerativeClustering\n",
        "from sklearn.preprocessing import StandardScaler\n",
        "import scipy.cluster.hierarchy\n",
        "from scipy.cluster.hierarchy import fcluster"
      ],
      "execution_count": null,
      "outputs": []
    },
    {
      "cell_type": "markdown",
      "metadata": {
        "id": "_O3GcNTZE8Ya"
      },
      "source": [
        "###Data Preprocessing\n",
        "---\n",
        "Melakukan standardisasi kembali untuk AHC."
      ]
    },
    {
      "cell_type": "code",
      "metadata": {
        "id": "-Sui8424E8lu"
      },
      "source": [
        "aglo_iris = StandardScaler().fit_transform(iris_x)\n",
        "aglo_iris"
      ],
      "execution_count": null,
      "outputs": []
    },
    {
      "cell_type": "markdown",
      "metadata": {
        "id": "JLcEDW5UN1Pl"
      },
      "source": [
        "###Agglomerative Hierarchy Clustering Linkage Type"
      ]
    },
    {
      "cell_type": "markdown",
      "metadata": {
        "id": "6zOkGqDAFBwJ"
      },
      "source": [
        "####Clustering dengan Complete Linkage AHC\n",
        "---\n",
        "Melakukan hierarchy clustering dengan metode complete linkage."
      ]
    },
    {
      "cell_type": "markdown",
      "metadata": {
        "id": "Tpsu18iXPyGi"
      },
      "source": [
        "#####Penentuan Cluster\n",
        "---\n",
        "Menentukan cluster dalam data Iris."
      ]
    },
    {
      "cell_type": "code",
      "metadata": {
        "id": "aTZPVawJFB34"
      },
      "source": [
        "agglom = AgglomerativeClustering(n_clusters=4, linkage='complete')\n",
        "agglom.fit(aglo_iris)\n",
        "agglom.labels_"
      ],
      "execution_count": null,
      "outputs": []
    },
    {
      "cell_type": "markdown",
      "metadata": {
        "id": "mi9SPFb8FFxo"
      },
      "source": [
        "#####Distance Matrix \n",
        "---\n",
        "Menentukan jarak matriks data Iris."
      ]
    },
    {
      "cell_type": "code",
      "metadata": {
        "id": "hEDP6cl0FF4z"
      },
      "source": [
        "dist_matrix = distance_matrix(aglo_iris,aglo_iris)\n",
        "dist_matrix"
      ],
      "execution_count": null,
      "outputs": []
    },
    {
      "cell_type": "markdown",
      "metadata": {
        "id": "mT_X-KB7FI65"
      },
      "source": [
        "#####AHC Complete Linkage Dendogram\n",
        "---\n",
        "Menampilkan dendogram hasil AHC complete linkage."
      ]
    },
    {
      "cell_type": "code",
      "metadata": {
        "id": "tHr7WKCfFJCU"
      },
      "source": [
        "Z = hierarchy.linkage(dist_matrix, 'complete')\n",
        "dendro = hierarchy.dendrogram(Z)"
      ],
      "execution_count": null,
      "outputs": []
    },
    {
      "cell_type": "markdown",
      "metadata": {
        "id": "uVgQ_PMzFL9d"
      },
      "source": [
        "#####Silhouette Score\n",
        "---\n",
        "Menunjukkan silhouette score dari complete linkage.\n"
      ]
    },
    {
      "cell_type": "code",
      "metadata": {
        "id": "Zn2eBTu9FMGB"
      },
      "source": [
        "clusters = fcluster(Z, 4, criterion='maxclust')\n",
        "metrics.silhouette_score(iris_x,clusters)"
      ],
      "execution_count": null,
      "outputs": []
    },
    {
      "cell_type": "markdown",
      "metadata": {
        "id": "DKcyhM0zFmfq"
      },
      "source": [
        "####Clustering dengan Single Linkage AHC\n",
        "---\n",
        "Melakukan hierarchy clustering dengan metode single linkage."
      ]
    },
    {
      "cell_type": "markdown",
      "metadata": {
        "id": "eZYTshjXPC86"
      },
      "source": [
        "#####Penentuan Cluster\n",
        "---\n",
        "Menentukan cluster untuk AHC"
      ]
    },
    {
      "cell_type": "code",
      "metadata": {
        "id": "l_LwsQ_EFmyu"
      },
      "source": [
        "aggloms = AgglomerativeClustering(n_clusters=4, linkage='single')\n",
        "aggloms.fit(aglo_iris)\n",
        "aggloms.labels_"
      ],
      "execution_count": null,
      "outputs": []
    },
    {
      "cell_type": "markdown",
      "metadata": {
        "id": "TBeOaVInFnAK"
      },
      "source": [
        "#####AHC Single Linkage Dendogram\n",
        "---\n",
        "Menampilkan dendogram dari hasil AHC Single Linkage"
      ]
    },
    {
      "cell_type": "code",
      "metadata": {
        "id": "VS0rIeuHFnKy"
      },
      "source": [
        "Zs = hierarchy.linkage(dist_matrix, 'single')\n",
        "dendros = hierarchy.dendrogram(Zs)"
      ],
      "execution_count": null,
      "outputs": []
    },
    {
      "cell_type": "markdown",
      "metadata": {
        "id": "Ku83fVJWFnTU"
      },
      "source": [
        "#####Silhouette Score\n",
        "---\n",
        "Menampilkan silhouette score untuk AHC Single Linkage"
      ]
    },
    {
      "cell_type": "code",
      "metadata": {
        "id": "M-Yj8OHsFnbn"
      },
      "source": [
        "clusters = fcluster(Zs, 4, criterion='maxclust')\n",
        "metrics.silhouette_score(iris_x,clusters)"
      ],
      "execution_count": null,
      "outputs": []
    },
    {
      "cell_type": "markdown",
      "metadata": {
        "id": "K6bACCVwF1id"
      },
      "source": [
        "####Clustering dengan Average Linkage AHC\n",
        "---\n",
        "Menampilkan silhouette score untuk AHC Average Linkage"
      ]
    },
    {
      "cell_type": "markdown",
      "metadata": {
        "id": "hZLtYFRsPrEz"
      },
      "source": [
        "#####Penentuan Cluster\n",
        "---\n",
        "Menampilkan silhouette score untuk AHC Average Linkage"
      ]
    },
    {
      "cell_type": "code",
      "metadata": {
        "id": "BZkGPe2GF1pO"
      },
      "source": [
        "aggloavg = AgglomerativeClustering(n_clusters=4, linkage='average')\n",
        "aggloavg.fit(aglo_iris)\n",
        "aggloavg.labels_"
      ],
      "execution_count": null,
      "outputs": []
    },
    {
      "cell_type": "markdown",
      "metadata": {
        "id": "k4zHpVYzF1wI"
      },
      "source": [
        "#####AHC Average Linkage Dendogram\n",
        "---\n",
        "Menampilkan dendogram hasil AHC Average Linkage."
      ]
    },
    {
      "cell_type": "code",
      "metadata": {
        "id": "TBwXUAF4F12b"
      },
      "source": [
        "Zavg = hierarchy.linkage(dist_matrix, 'average')\n",
        "dendravg = hierarchy.dendrogram(Zavg)"
      ],
      "execution_count": null,
      "outputs": []
    },
    {
      "cell_type": "markdown",
      "metadata": {
        "id": "gFih5cb9F2Dc"
      },
      "source": [
        "#####Silhouette Score\n",
        "---\n",
        "Menampilkan silhouette score untuk AHC Average Linkage"
      ]
    },
    {
      "cell_type": "code",
      "metadata": {
        "id": "lWeBV29dF2LZ"
      },
      "source": [
        "clusters = fcluster(Zavg, 4, criterion='maxclust')\n",
        "metrics.silhouette_score(iris_x,clusters)"
      ],
      "execution_count": null,
      "outputs": []
    }
  ]
}